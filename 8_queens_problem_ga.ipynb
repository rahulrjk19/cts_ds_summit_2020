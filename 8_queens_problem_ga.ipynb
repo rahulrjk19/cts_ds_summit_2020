{
  "nbformat": 4,
  "nbformat_minor": 0,
  "metadata": {
    "colab": {
      "name": "8_queens_problem_ga.ipynb",
      "provenance": [],
      "collapsed_sections": []
    },
    "kernelspec": {
      "name": "python3",
      "display_name": "Python 3"
    }
  },
  "cells": [
    {
      "cell_type": "code",
      "metadata": {
        "id": "zFWmWjUEgySa",
        "colab_type": "code",
        "colab": {}
      },
      "source": [
        "import sys\n",
        "import numpy as np\n",
        "import requests \n",
        "\n",
        "# default varibales\n",
        "nQueens = 8\n",
        "STOP_CTR = 28\n",
        "MUTATE = 0.000001\n",
        "MUTATE_FLAG = True\n",
        "MAX_ITER = 100000\n",
        "POPULATION = None"
      ],
      "execution_count": null,
      "outputs": []
    },
    {
      "cell_type": "code",
      "metadata": {
        "id": "ddUay4dQCKL_",
        "colab_type": "code",
        "colab": {}
      },
      "source": [
        "class BoardPosition:\n",
        "\tdef __init__(self):\n",
        "\t\tself.sequence = None\n",
        "\t\tself.fitness = None\n",
        "\t\tself.survival = None\n",
        "\tdef setSequence(self, val):\n",
        "\t\tself.sequence = val\n",
        "\tdef setFitness(self, fitness):\n",
        "\t\tself.fitness = fitness\n",
        "\tdef setSurvival(self, val):\n",
        "\t\tself.survival = val\n",
        "\tdef getAttr(self):\n",
        "\t\treturn {'sequence':sequence, 'fitness':fitness, 'survival':survival}"
      ],
      "execution_count": null,
      "outputs": []
    },
    {
      "cell_type": "code",
      "metadata": {
        "id": "fGn-rB1yClUm",
        "colab_type": "code",
        "colab": {}
      },
      "source": [
        "def fitness(chromosome = None):\n",
        "\tclashes = 0;\n",
        "\trow_col_clashes = abs(len(chromosome) - len(np.unique(chromosome)))\n",
        "\tclashes += row_col_clashes\n",
        "\n",
        "\t# calculate diagonal clashes\n",
        "\tfor i in range(len(chromosome)):\n",
        "\t\tfor j in range(len(chromosome)):\n",
        "\t\t\tif ( i != j):\n",
        "\t\t\t\tdx = abs(i-j)\n",
        "\t\t\t\tdy = abs(chromosome[i] - chromosome[j])\n",
        "\t\t\t\tif(dx == dy):\n",
        "\t\t\t\t\tclashes += 1\n",
        "\n",
        "\treturn 28 - clashes\t"
      ],
      "execution_count": null,
      "outputs": []
    },
    {
      "cell_type": "code",
      "metadata": {
        "id": "yrs1CK4HCo6b",
        "colab_type": "code",
        "colab": {}
      },
      "source": [
        "def generateChromosome():\n",
        "\tglobal nQueens\n",
        "\tinit_distribution = np.arange(nQueens)\n",
        "\tnp.random.shuffle(init_distribution)\n",
        "\treturn init_distribution"
      ],
      "execution_count": null,
      "outputs": []
    },
    {
      "cell_type": "code",
      "metadata": {
        "id": "kgIeskvMCpHY",
        "colab_type": "code",
        "colab": {}
      },
      "source": [
        "def generatePopulation(population_size = 100):\n",
        "\tglobal POPULATION\n",
        "\n",
        "\tPOPULATION = population_size\n",
        "\n",
        "\tpopulation = [BoardPosition() for i in range(population_size)]\n",
        "\tfor i in range(population_size):\n",
        "\t\tpopulation[i].setSequence(generateChromosome())\n",
        "\t\tpopulation[i].setFitness(fitness(population[i].sequence))\n",
        "\n",
        "\treturn population"
      ],
      "execution_count": null,
      "outputs": []
    },
    {
      "cell_type": "code",
      "metadata": {
        "id": "-yCeouuZCpS3",
        "colab_type": "code",
        "colab": {}
      },
      "source": [
        "def getParent():\n",
        "\tglobals()\t\n",
        "\tparent1, parent2 = None, None\n",
        "\t\n",
        "\tsummation_fitness = np.sum([x.fitness for x in population])\n",
        "\tfor each in population:\n",
        "\t\teach.survival = each.fitness/(summation_fitness*1.0)\n",
        "\n",
        "\twhile True:\n",
        "\t\tparent1_random = np.random.rand()\n",
        "\t\tparent1_rn = [x for x in population if x.survival <= parent1_random]\n",
        "\t\ttry:\n",
        "\t\t\tparent1 = parent1_rn[0]\n",
        "\t\t\tbreak\n",
        "\t\texcept:\n",
        "\t\t\tpass\n",
        "\n",
        "\twhile True:\n",
        "\t\tparent2_random = np.random.rand()\n",
        "\t\tparent2_rn = [x for x in population if x.survival <= parent2_random]\n",
        "\t\ttry:\n",
        "\t\t\tt = np.random.randint(len(parent2_rn))\n",
        "\t\t\tparent2 = parent2_rn[t]\n",
        "\t\t\tif parent2 != parent1:\n",
        "\t\t\t\tbreak\n",
        "\t\t\telse:\n",
        "\t\t\t\tprint(\"equal parents\")\n",
        "\t\t\t\tcontinue\n",
        "\t\texcept:\n",
        "\t\t\tprint(\"exception\")\n",
        "\t\t\tcontinue\n",
        "\n",
        "\tif parent1 is not None and parent2 is not None:\n",
        "\t\treturn parent1, parent2\n",
        "\telse:\n",
        "\t\tsys.exit(-1)"
      ],
      "execution_count": null,
      "outputs": []
    },
    {
      "cell_type": "code",
      "metadata": {
        "id": "BelVpClmCpsF",
        "colab_type": "code",
        "colab": {}
      },
      "source": [
        "def reproduce_crossover(parent1, parent2):\n",
        "\tglobals()\n",
        "\tn = len(parent1.sequence)\n",
        "\tc = np.random.randint(n, size=1)\n",
        "\tchild = BoardPosition()\n",
        "\tchild.sequence = []\n",
        "\tchild.sequence.extend(parent1.sequence[0:c])\n",
        "\tchild.sequence.extend(parent2.sequence[c:])\n",
        "\tchild.setFitness(fitness(child.sequence))\n",
        "\treturn child"
      ],
      "execution_count": null,
      "outputs": []
    },
    {
      "cell_type": "code",
      "metadata": {
        "id": "oz-H0Jr3Cp1h",
        "colab_type": "code",
        "colab": {}
      },
      "source": [
        "def mutate(child):\n",
        "\tif child.survival < MUTATE:\n",
        "\t\tc = np.random.randint(8)\n",
        "\t\tchild.sequence[c] = np.random.randint(8)\n",
        "\treturn child\n"
      ],
      "execution_count": null,
      "outputs": []
    },
    {
      "cell_type": "code",
      "metadata": {
        "id": "F0xXHBECCpmT",
        "colab_type": "code",
        "colab": {}
      },
      "source": [
        "def GA(iteration):\n",
        "\tprint(\" #\"*10 ,\"Executing Genetic  generation : \", iteration , \" #\"*10)\n",
        "\tglobals()\n",
        "\tnewpopulation = []\n",
        "\tfor i in range(len(population)):\n",
        "\t\tparent1, parent2 = getParent()\n",
        "\t\tprint(\"Parents generated : \", parent1, parent2)\n",
        "\n",
        "\t\tchild = reproduce_crossover(parent1, parent2)\n",
        "\n",
        "\t\tif(MUTATE_FLAG):\n",
        "\t\t\tchild = mutate(child)\n",
        "\n",
        "\t\tnewpopulation.append(child)\n",
        "\treturn newpopulation"
      ],
      "execution_count": null,
      "outputs": []
    },
    {
      "cell_type": "code",
      "metadata": {
        "id": "KT1e96xACpiw",
        "colab_type": "code",
        "colab": {}
      },
      "source": [
        "def stop():\n",
        "\tglobals()\n",
        "\tprint(population[0], \" printing population[0]\")\n",
        "\tfitnessvals = [pos.fitness for pos in population]\n",
        "\tif STOP_CTR in fitnessvals:\n",
        "\t\treturn True\n",
        "\tif MAX_ITER == iteration:\n",
        "\t\treturn True\n",
        "\treturn False\n",
        "  "
      ],
      "execution_count": null,
      "outputs": []
    },
    {
      "cell_type": "code",
      "metadata": {
        "id": "fwdJxUBFkXGx",
        "colab_type": "code",
        "colab": {
          "base_uri": "https://localhost:8080/",
          "height": 54
        },
        "outputId": "d9d6c11b-20a6-4b36-9a00-95c862b60c1a"
      },
      "source": [
        "population = generatePopulation(1000)\n",
        "\n",
        "print(\"POPULATION size : \", population)"
      ],
      "execution_count": null,
      "outputs": [
        {
          "output_type": "stream",
          "text": [
            "POPULATION size :  [<__main__.BoardPosition object at 0x7f7c48263c88>, <__main__.BoardPosition object at 0x7f7c48263cc0>, <__main__.BoardPosition object at 0x7f7c48263cf8>, <__main__.BoardPosition object at 0x7f7c48250da0>, <__main__.BoardPosition object at 0x7f7c48250470>, <__main__.BoardPosition object at 0x7f7c482507b8>, <__main__.BoardPosition object at 0x7f7c48250e48>, <__main__.BoardPosition object at 0x7f7c48250898>, <__main__.BoardPosition object at 0x7f7c482502b0>, <__main__.BoardPosition object at 0x7f7c48250be0>, <__main__.BoardPosition object at 0x7f7c48250160>, <__main__.BoardPosition object at 0x7f7c48250080>, <__main__.BoardPosition object at 0x7f7c482500f0>, <__main__.BoardPosition object at 0x7f7c48250048>, <__main__.BoardPosition object at 0x7f7c482500b8>, <__main__.BoardPosition object at 0x7f7c482505f8>, <__main__.BoardPosition object at 0x7f7c482504a8>, <__main__.BoardPosition object at 0x7f7c48250588>, <__main__.BoardPosition object at 0x7f7c482508d0>, <__main__.BoardPosition object at 0x7f7c48250cf8>, <__main__.BoardPosition object at 0x7f7c48250320>, <__main__.BoardPosition object at 0x7f7c48250198>, <__main__.BoardPosition object at 0x7f7c48250b70>, <__main__.BoardPosition object at 0x7f7c48250208>, <__main__.BoardPosition object at 0x7f7c482501d0>, <__main__.BoardPosition object at 0x7f7c48250cc0>, <__main__.BoardPosition object at 0x7f7c48250278>, <__main__.BoardPosition object at 0x7f7c482502e8>, <__main__.BoardPosition object at 0x7f7c48250240>, <__main__.BoardPosition object at 0x7f7c482503c8>, <__main__.BoardPosition object at 0x7f7c48250438>, <__main__.BoardPosition object at 0x7f7c48250400>, <__main__.BoardPosition object at 0x7f7c48250390>, <__main__.BoardPosition object at 0x7f7c48250c18>, <__main__.BoardPosition object at 0x7f7c48250d30>, <__main__.BoardPosition object at 0x7f7c48250668>, <__main__.BoardPosition object at 0x7f7c48250978>, <__main__.BoardPosition object at 0x7f7c482509b0>, <__main__.BoardPosition object at 0x7f7c48250630>, <__main__.BoardPosition object at 0x7f7c48250908>, <__main__.BoardPosition object at 0x7f7c48250710>, <__main__.BoardPosition object at 0x7f7c48250780>, <__main__.BoardPosition object at 0x7f7c48250940>, <__main__.BoardPosition object at 0x7f7c48250828>, <__main__.BoardPosition object at 0x7f7c48250b38>, <__main__.BoardPosition object at 0x7f7c48250550>, <__main__.BoardPosition object at 0x7f7c48250a20>, <__main__.BoardPosition object at 0x7f7c48250a90>, <__main__.BoardPosition object at 0x7f7c48250b00>, <__main__.BoardPosition object at 0x7f7c48250748>, <__main__.BoardPosition object at 0x7f7c482504e0>, <__main__.BoardPosition object at 0x7f7c48250ac8>, <__main__.BoardPosition object at 0x7f7c482509e8>, <__main__.BoardPosition object at 0x7f7c48250a58>, <__main__.BoardPosition object at 0x7f7c482506d8>, <__main__.BoardPosition object at 0x7f7c482507f0>, <__main__.BoardPosition object at 0x7f7c48250dd8>, <__main__.BoardPosition object at 0x7f7c482505c0>, <__main__.BoardPosition object at 0x7f7c48250518>, <__main__.BoardPosition object at 0x7f7c48250358>, <__main__.BoardPosition object at 0x7f7c482506a0>, <__main__.BoardPosition object at 0x7f7c48250c50>, <__main__.BoardPosition object at 0x7f7c48250eb8>, <__main__.BoardPosition object at 0x7f7c48250e10>, <__main__.BoardPosition object at 0x7f7c48250c88>, <__main__.BoardPosition object at 0x7f7c48260eb8>, <__main__.BoardPosition object at 0x7f7c48260fd0>, <__main__.BoardPosition object at 0x7f7c48260f60>, <__main__.BoardPosition object at 0x7f7c48260e80>, <__main__.BoardPosition object at 0x7f7c48260cf8>, <__main__.BoardPosition object at 0x7f7c48260d30>, <__main__.BoardPosition object at 0x7f7c48260cc0>, <__main__.BoardPosition object at 0x7f7c48260c18>, <__main__.BoardPosition object at 0x7f7c48260c50>, <__main__.BoardPosition object at 0x7f7c48260c88>, <__main__.BoardPosition object at 0x7f7c48260e10>, <__main__.BoardPosition object at 0x7f7c48260dd8>, <__main__.BoardPosition object at 0x7f7c48260da0>, <__main__.BoardPosition object at 0x7f7c48260d68>, <__main__.BoardPosition object at 0x7f7c482600b8>, <__main__.BoardPosition object at 0x7f7c482600f0>, <__main__.BoardPosition object at 0x7f7c48260048>, <__main__.BoardPosition object at 0x7f7c48260390>, <__main__.BoardPosition object at 0x7f7c48260080>, <__main__.BoardPosition object at 0x7f7c48260400>, <__main__.BoardPosition object at 0x7f7c48260518>, <__main__.BoardPosition object at 0x7f7c482605f8>, <__main__.BoardPosition object at 0x7f7c48260630>, <__main__.BoardPosition object at 0x7f7c48260550>, <__main__.BoardPosition object at 0x7f7c48260588>, <__main__.BoardPosition object at 0x7f7c482605c0>, <__main__.BoardPosition object at 0x7f7c48260668>, <__main__.BoardPosition object at 0x7f7c482606a0>, <__main__.BoardPosition object at 0x7f7c48260710>, <__main__.BoardPosition object at 0x7f7c48260748>, <__main__.BoardPosition object at 0x7f7c48260780>, <__main__.BoardPosition object at 0x7f7c482606d8>, <__main__.BoardPosition object at 0x7f7c482607b8>, <__main__.BoardPosition object at 0x7f7c48260828>, <__main__.BoardPosition object at 0x7f7c48260898>, <__main__.BoardPosition object at 0x7f7c482608d0>, <__main__.BoardPosition object at 0x7f7c48260860>, <__main__.BoardPosition object at 0x7f7c482607f0>, <__main__.BoardPosition object at 0x7f7c48260908>, <__main__.BoardPosition object at 0x7f7c48260978>, <__main__.BoardPosition object at 0x7f7c482609e8>, <__main__.BoardPosition object at 0x7f7c48260a58>, <__main__.BoardPosition object at 0x7f7c48260a20>, <__main__.BoardPosition object at 0x7f7c482609b0>, <__main__.BoardPosition object at 0x7f7c48260940>, <__main__.BoardPosition object at 0x7f7c48260a90>, <__main__.BoardPosition object at 0x7f7c48260ac8>, <__main__.BoardPosition object at 0x7f7c48260b70>, <__main__.BoardPosition object at 0x7f7c48260b00>, <__main__.BoardPosition object at 0x7f7c48260b38>, <__main__.BoardPosition object at 0x7f7c48260208>, <__main__.BoardPosition object at 0x7f7c48260470>, <__main__.BoardPosition object at 0x7f7c482604e0>, <__main__.BoardPosition object at 0x7f7c482604a8>, <__main__.BoardPosition object at 0x7f7c48260438>, <__main__.BoardPosition object at 0x7f7c482603c8>, <__main__.BoardPosition object at 0x7f7c48260ba8>, <__main__.BoardPosition object at 0x7f7c48260be0>, <__main__.BoardPosition object at 0x7f7c48260358>, <__main__.BoardPosition object at 0x7f7c48260e48>, <__main__.BoardPosition object at 0x7f7c48260320>, <__main__.BoardPosition object at 0x7f7c482602e8>, <__main__.BoardPosition object at 0x7f7c48260278>, <__main__.BoardPosition object at 0x7f7c48260198>, <__main__.BoardPosition object at 0x7f7c482601d0>, <__main__.BoardPosition object at 0x7f7c48260128>, <__main__.BoardPosition object at 0x7f7c48260160>, <__main__.BoardPosition object at 0x7f7c48260240>, <__main__.BoardPosition object at 0x7f7c48c06128>, <__main__.BoardPosition object at 0x7f7c657ca240>, <__main__.BoardPosition object at 0x7f7c6a681b38>, <__main__.BoardPosition object at 0x7f7c48b65710>, <__main__.BoardPosition object at 0x7f7c5d032048>, <__main__.BoardPosition object at 0x7f7c48b59d30>, <__main__.BoardPosition object at 0x7f7c48b59630>, <__main__.BoardPosition object at 0x7f7c48246a58>, <__main__.BoardPosition object at 0x7f7c48246ba8>, <__main__.BoardPosition object at 0x7f7c48246780>, <__main__.BoardPosition object at 0x7f7c48246748>, <__main__.BoardPosition object at 0x7f7c48246c50>, <__main__.BoardPosition object at 0x7f7c48246c88>, <__main__.BoardPosition object at 0x7f7c48246f28>, <__main__.BoardPosition object at 0x7f7c48246f60>, <__main__.BoardPosition object at 0x7f7c48246b00>, <__main__.BoardPosition object at 0x7f7c48246e48>, <__main__.BoardPosition object at 0x7f7c48246da0>, <__main__.BoardPosition object at 0x7f7c48246940>, <__main__.BoardPosition object at 0x7f7c48246e10>, <__main__.BoardPosition object at 0x7f7c482460b8>, <__main__.BoardPosition object at 0x7f7c48246d68>, <__main__.BoardPosition object at 0x7f7c48246fd0>, <__main__.BoardPosition object at 0x7f7c48246a90>, <__main__.BoardPosition object at 0x7f7c48246ef0>, <__main__.BoardPosition object at 0x7f7c482464a8>, <__main__.BoardPosition object at 0x7f7c48246be0>, <__main__.BoardPosition object at 0x7f7c48246400>, <__main__.BoardPosition object at 0x7f7c48246320>, <__main__.BoardPosition object at 0x7f7c48246438>, <__main__.BoardPosition object at 0x7f7c48246470>, <__main__.BoardPosition object at 0x7f7c48246208>, <__main__.BoardPosition object at 0x7f7c48246d30>, <__main__.BoardPosition object at 0x7f7c48246b38>, <__main__.BoardPosition object at 0x7f7c48246358>, <__main__.BoardPosition object at 0x7f7c482463c8>, <__main__.BoardPosition object at 0x7f7c48246550>, <__main__.BoardPosition object at 0x7f7c482464e0>, <__main__.BoardPosition object at 0x7f7c482465c0>, <__main__.BoardPosition object at 0x7f7c482465f8>, <__main__.BoardPosition object at 0x7f7c48246630>, <__main__.BoardPosition object at 0x7f7c48246668>, <__main__.BoardPosition object at 0x7f7c48246518>, <__main__.BoardPosition object at 0x7f7c48246588>, <__main__.BoardPosition object at 0x7f7c48246390>, <__main__.BoardPosition object at 0x7f7c482466a0>, <__main__.BoardPosition object at 0x7f7c482466d8>, <__main__.BoardPosition object at 0x7f7c482467f0>, <__main__.BoardPosition object at 0x7f7c48246828>, <__main__.BoardPosition object at 0x7f7c48246710>, <__main__.BoardPosition object at 0x7f7c48246860>, <__main__.BoardPosition object at 0x7f7c482467b8>, <__main__.BoardPosition object at 0x7f7c48246898>, <__main__.BoardPosition object at 0x7f7c482468d0>, <__main__.BoardPosition object at 0x7f7c482f5b70>, <__main__.BoardPosition object at 0x7f7c482f54e0>, <__main__.BoardPosition object at 0x7f7c482f5390>, <__main__.BoardPosition object at 0x7f7c482f5cf8>, <__main__.BoardPosition object at 0x7f7c482f5eb8>, <__main__.BoardPosition object at 0x7f7c482f5b00>, <__main__.BoardPosition object at 0x7f7c482f5ba8>, <__main__.BoardPosition object at 0x7f7c482f5f28>, <__main__.BoardPosition object at 0x7f7c482f53c8>, <__main__.BoardPosition object at 0x7f7c482f5dd8>, <__main__.BoardPosition object at 0x7f7c482f5da0>, <__main__.BoardPosition object at 0x7f7c482f5fd0>, <__main__.BoardPosition object at 0x7f7c482f54a8>, <__main__.BoardPosition object at 0x7f7c482f5ef0>, <__main__.BoardPosition object at 0x7f7c482f5be0>, <__main__.BoardPosition object at 0x7f7c482f5cc0>, <__main__.BoardPosition object at 0x7f7c482f5470>, <__main__.BoardPosition object at 0x7f7c48263048>, <__main__.BoardPosition object at 0x7f7c48263080>, <__main__.BoardPosition object at 0x7f7c482630b8>, <__main__.BoardPosition object at 0x7f7c482630f0>, <__main__.BoardPosition object at 0x7f7c48263160>, <__main__.BoardPosition object at 0x7f7c482631d0>, <__main__.BoardPosition object at 0x7f7c48263208>, <__main__.BoardPosition object at 0x7f7c48263198>, <__main__.BoardPosition object at 0x7f7c48263240>, <__main__.BoardPosition object at 0x7f7c48263128>, <__main__.BoardPosition object at 0x7f7c48263278>, <__main__.BoardPosition object at 0x7f7c482632e8>, <__main__.BoardPosition object at 0x7f7c48263390>, <__main__.BoardPosition object at 0x7f7c48263400>, <__main__.BoardPosition object at 0x7f7c482633c8>, <__main__.BoardPosition object at 0x7f7c48263320>, <__main__.BoardPosition object at 0x7f7c48263358>, <__main__.BoardPosition object at 0x7f7c482632b0>, <__main__.BoardPosition object at 0x7f7c48263438>, <__main__.BoardPosition object at 0x7f7c48263518>, <__main__.BoardPosition object at 0x7f7c48263550>, <__main__.BoardPosition object at 0x7f7c48263470>, <__main__.BoardPosition object at 0x7f7c482634e0>, <__main__.BoardPosition object at 0x7f7c482634a8>, <__main__.BoardPosition object at 0x7f7c48263588>, <__main__.BoardPosition object at 0x7f7c48263668>, <__main__.BoardPosition object at 0x7f7c482636a0>, <__main__.BoardPosition object at 0x7f7c482635c0>, <__main__.BoardPosition object at 0x7f7c48263630>, <__main__.BoardPosition object at 0x7f7c482635f8>, <__main__.BoardPosition object at 0x7f7c482636d8>, <__main__.BoardPosition object at 0x7f7c48263710>, <__main__.BoardPosition object at 0x7f7c48263d30>, <__main__.BoardPosition object at 0x7f7c48263d68>, <__main__.BoardPosition object at 0x7f7c48263da0>, <__main__.BoardPosition object at 0x7f7c48263dd8>, <__main__.BoardPosition object at 0x7f7c48263e10>, <__main__.BoardPosition object at 0x7f7c48263e48>, <__main__.BoardPosition object at 0x7f7c48263e80>, <__main__.BoardPosition object at 0x7f7c48263eb8>, <__main__.BoardPosition object at 0x7f7c48263ef0>, <__main__.BoardPosition object at 0x7f7c48263f28>, <__main__.BoardPosition object at 0x7f7c48263f60>, <__main__.BoardPosition object at 0x7f7c48263f98>, <__main__.BoardPosition object at 0x7f7c48263fd0>, <__main__.BoardPosition object at 0x7f7c4824b048>, <__main__.BoardPosition object at 0x7f7c4824b080>, <__main__.BoardPosition object at 0x7f7c4824b0b8>, <__main__.BoardPosition object at 0x7f7c4824b0f0>, <__main__.BoardPosition object at 0x7f7c4824b128>, <__main__.BoardPosition object at 0x7f7c4824b160>, <__main__.BoardPosition object at 0x7f7c4824b198>, <__main__.BoardPosition object at 0x7f7c4824b1d0>, <__main__.BoardPosition object at 0x7f7c4824b208>, <__main__.BoardPosition object at 0x7f7c4824b240>, <__main__.BoardPosition object at 0x7f7c4824b278>, <__main__.BoardPosition object at 0x7f7c4824b2b0>, <__main__.BoardPosition object at 0x7f7c4824b2e8>, <__main__.BoardPosition object at 0x7f7c4824b320>, <__main__.BoardPosition object at 0x7f7c4824b358>, <__main__.BoardPosition object at 0x7f7c4824b390>, <__main__.BoardPosition object at 0x7f7c4824b3c8>, <__main__.BoardPosition object at 0x7f7c4824b400>, <__main__.BoardPosition object at 0x7f7c4824b438>, <__main__.BoardPosition object at 0x7f7c4824b470>, <__main__.BoardPosition object at 0x7f7c4824b4a8>, <__main__.BoardPosition object at 0x7f7c4824b4e0>, <__main__.BoardPosition object at 0x7f7c4824b518>, <__main__.BoardPosition object at 0x7f7c4824b550>, <__main__.BoardPosition object at 0x7f7c4824b588>, <__main__.BoardPosition object at 0x7f7c4824b5c0>, <__main__.BoardPosition object at 0x7f7c4824b5f8>, <__main__.BoardPosition object at 0x7f7c4824b630>, <__main__.BoardPosition object at 0x7f7c4824b668>, <__main__.BoardPosition object at 0x7f7c4824b6a0>, <__main__.BoardPosition object at 0x7f7c4824b6d8>, <__main__.BoardPosition object at 0x7f7c4824b710>, <__main__.BoardPosition object at 0x7f7c4824b748>, <__main__.BoardPosition object at 0x7f7c4824b780>, <__main__.BoardPosition object at 0x7f7c4824b7b8>, <__main__.BoardPosition object at 0x7f7c4824b7f0>, <__main__.BoardPosition object at 0x7f7c4824b828>, <__main__.BoardPosition object at 0x7f7c4824b860>, <__main__.BoardPosition object at 0x7f7c4824b898>, <__main__.BoardPosition object at 0x7f7c4824b8d0>, <__main__.BoardPosition object at 0x7f7c4824b908>, <__main__.BoardPosition object at 0x7f7c4824b940>, <__main__.BoardPosition object at 0x7f7c4824b978>, <__main__.BoardPosition object at 0x7f7c4824b9b0>, <__main__.BoardPosition object at 0x7f7c4824b9e8>, <__main__.BoardPosition object at 0x7f7c4824ba20>, <__main__.BoardPosition object at 0x7f7c4824ba58>, <__main__.BoardPosition object at 0x7f7c4824ba90>, <__main__.BoardPosition object at 0x7f7c4824bac8>, <__main__.BoardPosition object at 0x7f7c4824bb00>, <__main__.BoardPosition object at 0x7f7c4824bb38>, <__main__.BoardPosition object at 0x7f7c4824bb70>, <__main__.BoardPosition object at 0x7f7c4824bba8>, <__main__.BoardPosition object at 0x7f7c4824bbe0>, <__main__.BoardPosition object at 0x7f7c4824bc18>, <__main__.BoardPosition object at 0x7f7c4824bc50>, <__main__.BoardPosition object at 0x7f7c4824bc88>, <__main__.BoardPosition object at 0x7f7c4824bcc0>, <__main__.BoardPosition object at 0x7f7c4824bcf8>, <__main__.BoardPosition object at 0x7f7c4824bd30>, <__main__.BoardPosition object at 0x7f7c4824bd68>, <__main__.BoardPosition object at 0x7f7c4824bda0>, <__main__.BoardPosition object at 0x7f7c4824bdd8>, <__main__.BoardPosition object at 0x7f7c4824be10>, <__main__.BoardPosition object at 0x7f7c4824be48>, <__main__.BoardPosition object at 0x7f7c4824be80>, <__main__.BoardPosition object at 0x7f7c4824beb8>, <__main__.BoardPosition object at 0x7f7c4824bef0>, <__main__.BoardPosition object at 0x7f7c4824bf28>, <__main__.BoardPosition object at 0x7f7c4824bf60>, <__main__.BoardPosition object at 0x7f7c4824bf98>, <__main__.BoardPosition object at 0x7f7c4824bfd0>, <__main__.BoardPosition object at 0x7f7c48257048>, <__main__.BoardPosition object at 0x7f7c48257080>, <__main__.BoardPosition object at 0x7f7c482570b8>, <__main__.BoardPosition object at 0x7f7c482570f0>, <__main__.BoardPosition object at 0x7f7c48257128>, <__main__.BoardPosition object at 0x7f7c48257160>, <__main__.BoardPosition object at 0x7f7c48257198>, <__main__.BoardPosition object at 0x7f7c482571d0>, <__main__.BoardPosition object at 0x7f7c48257208>, <__main__.BoardPosition object at 0x7f7c48257240>, <__main__.BoardPosition object at 0x7f7c48257278>, <__main__.BoardPosition object at 0x7f7c482572b0>, <__main__.BoardPosition object at 0x7f7c482572e8>, <__main__.BoardPosition object at 0x7f7c48257320>, <__main__.BoardPosition object at 0x7f7c48257358>, <__main__.BoardPosition object at 0x7f7c48257390>, <__main__.BoardPosition object at 0x7f7c482573c8>, <__main__.BoardPosition object at 0x7f7c48257400>, <__main__.BoardPosition object at 0x7f7c48257438>, <__main__.BoardPosition object at 0x7f7c48257470>, <__main__.BoardPosition object at 0x7f7c482574a8>, <__main__.BoardPosition object at 0x7f7c482574e0>, <__main__.BoardPosition object at 0x7f7c48257518>, <__main__.BoardPosition object at 0x7f7c48257550>, <__main__.BoardPosition object at 0x7f7c48257588>, <__main__.BoardPosition object at 0x7f7c482575c0>, <__main__.BoardPosition object at 0x7f7c482575f8>, <__main__.BoardPosition object at 0x7f7c48257630>, <__main__.BoardPosition object at 0x7f7c48257668>, <__main__.BoardPosition object at 0x7f7c482576a0>, <__main__.BoardPosition object at 0x7f7c482576d8>, <__main__.BoardPosition object at 0x7f7c48257710>, <__main__.BoardPosition object at 0x7f7c48257748>, <__main__.BoardPosition object at 0x7f7c48257780>, <__main__.BoardPosition object at 0x7f7c482577b8>, <__main__.BoardPosition object at 0x7f7c482577f0>, <__main__.BoardPosition object at 0x7f7c48257828>, <__main__.BoardPosition object at 0x7f7c48257860>, <__main__.BoardPosition object at 0x7f7c48257898>, <__main__.BoardPosition object at 0x7f7c482578d0>, <__main__.BoardPosition object at 0x7f7c48257908>, <__main__.BoardPosition object at 0x7f7c48257940>, <__main__.BoardPosition object at 0x7f7c48257978>, <__main__.BoardPosition object at 0x7f7c482579b0>, <__main__.BoardPosition object at 0x7f7c482579e8>, <__main__.BoardPosition object at 0x7f7c48257a20>, <__main__.BoardPosition object at 0x7f7c48257a58>, <__main__.BoardPosition object at 0x7f7c48257a90>, <__main__.BoardPosition object at 0x7f7c48257ac8>, <__main__.BoardPosition object at 0x7f7c48257b00>, <__main__.BoardPosition object at 0x7f7c48257b38>, <__main__.BoardPosition object at 0x7f7c48257b70>, <__main__.BoardPosition object at 0x7f7c48257ba8>, <__main__.BoardPosition object at 0x7f7c48257be0>, <__main__.BoardPosition object at 0x7f7c48257c18>, <__main__.BoardPosition object at 0x7f7c48257c50>, <__main__.BoardPosition object at 0x7f7c48257c88>, <__main__.BoardPosition object at 0x7f7c48257cc0>, <__main__.BoardPosition object at 0x7f7c48257cf8>, <__main__.BoardPosition object at 0x7f7c48257d30>, <__main__.BoardPosition object at 0x7f7c48257d68>, <__main__.BoardPosition object at 0x7f7c48257da0>, <__main__.BoardPosition object at 0x7f7c48257dd8>, <__main__.BoardPosition object at 0x7f7c48257e10>, <__main__.BoardPosition object at 0x7f7c48257e48>, <__main__.BoardPosition object at 0x7f7c48257e80>, <__main__.BoardPosition object at 0x7f7c48257eb8>, <__main__.BoardPosition object at 0x7f7c48257ef0>, <__main__.BoardPosition object at 0x7f7c48257f28>, <__main__.BoardPosition object at 0x7f7c48257f60>, <__main__.BoardPosition object at 0x7f7c48257f98>, <__main__.BoardPosition object at 0x7f7c48257fd0>, <__main__.BoardPosition object at 0x7f7c48266048>, <__main__.BoardPosition object at 0x7f7c48266080>, <__main__.BoardPosition object at 0x7f7c482660b8>, <__main__.BoardPosition object at 0x7f7c482660f0>, <__main__.BoardPosition object at 0x7f7c48266128>, <__main__.BoardPosition object at 0x7f7c48266160>, <__main__.BoardPosition object at 0x7f7c48266198>, <__main__.BoardPosition object at 0x7f7c482661d0>, <__main__.BoardPosition object at 0x7f7c48266208>, <__main__.BoardPosition object at 0x7f7c48266240>, <__main__.BoardPosition object at 0x7f7c48266278>, <__main__.BoardPosition object at 0x7f7c482662b0>, <__main__.BoardPosition object at 0x7f7c482662e8>, <__main__.BoardPosition object at 0x7f7c48266320>, <__main__.BoardPosition object at 0x7f7c48266358>, <__main__.BoardPosition object at 0x7f7c48266390>, <__main__.BoardPosition object at 0x7f7c482663c8>, <__main__.BoardPosition object at 0x7f7c48266400>, <__main__.BoardPosition object at 0x7f7c48266438>, <__main__.BoardPosition object at 0x7f7c48266470>, <__main__.BoardPosition object at 0x7f7c482664a8>, <__main__.BoardPosition object at 0x7f7c482664e0>, <__main__.BoardPosition object at 0x7f7c48266518>, <__main__.BoardPosition object at 0x7f7c48266550>, <__main__.BoardPosition object at 0x7f7c48266588>, <__main__.BoardPosition object at 0x7f7c482665c0>, <__main__.BoardPosition object at 0x7f7c482665f8>, <__main__.BoardPosition object at 0x7f7c48266630>, <__main__.BoardPosition object at 0x7f7c48266668>, <__main__.BoardPosition object at 0x7f7c482666a0>, <__main__.BoardPosition object at 0x7f7c482666d8>, <__main__.BoardPosition object at 0x7f7c48266710>, <__main__.BoardPosition object at 0x7f7c48266748>, <__main__.BoardPosition object at 0x7f7c48266780>, <__main__.BoardPosition object at 0x7f7c482667b8>, <__main__.BoardPosition object at 0x7f7c482667f0>, <__main__.BoardPosition object at 0x7f7c48266828>, <__main__.BoardPosition object at 0x7f7c48266860>, <__main__.BoardPosition object at 0x7f7c48266898>, <__main__.BoardPosition object at 0x7f7c482668d0>, <__main__.BoardPosition object at 0x7f7c48266908>, <__main__.BoardPosition object at 0x7f7c48266940>, <__main__.BoardPosition object at 0x7f7c48266978>, <__main__.BoardPosition object at 0x7f7c482669b0>, <__main__.BoardPosition object at 0x7f7c482669e8>, <__main__.BoardPosition object at 0x7f7c48266a20>, <__main__.BoardPosition object at 0x7f7c48266a58>, <__main__.BoardPosition object at 0x7f7c48266a90>, <__main__.BoardPosition object at 0x7f7c48266ac8>, <__main__.BoardPosition object at 0x7f7c48266b00>, <__main__.BoardPosition object at 0x7f7c48266b38>, <__main__.BoardPosition object at 0x7f7c48266b70>, <__main__.BoardPosition object at 0x7f7c48266ba8>, <__main__.BoardPosition object at 0x7f7c48266be0>, <__main__.BoardPosition object at 0x7f7c48266c18>, <__main__.BoardPosition object at 0x7f7c48266c50>, <__main__.BoardPosition object at 0x7f7c48266c88>, <__main__.BoardPosition object at 0x7f7c48266cc0>, <__main__.BoardPosition object at 0x7f7c48266cf8>, <__main__.BoardPosition object at 0x7f7c48266d30>, <__main__.BoardPosition object at 0x7f7c48266d68>, <__main__.BoardPosition object at 0x7f7c48266da0>, <__main__.BoardPosition object at 0x7f7c48266dd8>, <__main__.BoardPosition object at 0x7f7c48266e10>, <__main__.BoardPosition object at 0x7f7c48266e48>, <__main__.BoardPosition object at 0x7f7c48266e80>, <__main__.BoardPosition object at 0x7f7c48266eb8>, <__main__.BoardPosition object at 0x7f7c48266ef0>, <__main__.BoardPosition object at 0x7f7c48266f28>, <__main__.BoardPosition object at 0x7f7c48266f60>, <__main__.BoardPosition object at 0x7f7c48266f98>, <__main__.BoardPosition object at 0x7f7c48266fd0>, <__main__.BoardPosition object at 0x7f7c48268048>, <__main__.BoardPosition object at 0x7f7c48268080>, <__main__.BoardPosition object at 0x7f7c482680b8>, <__main__.BoardPosition object at 0x7f7c482680f0>, <__main__.BoardPosition object at 0x7f7c48268128>, <__main__.BoardPosition object at 0x7f7c48268160>, <__main__.BoardPosition object at 0x7f7c48268198>, <__main__.BoardPosition object at 0x7f7c482681d0>, <__main__.BoardPosition object at 0x7f7c48268208>, <__main__.BoardPosition object at 0x7f7c48268240>, <__main__.BoardPosition object at 0x7f7c48268278>, <__main__.BoardPosition object at 0x7f7c482682b0>, <__main__.BoardPosition object at 0x7f7c482682e8>, <__main__.BoardPosition object at 0x7f7c48268320>, <__main__.BoardPosition object at 0x7f7c48268358>, <__main__.BoardPosition object at 0x7f7c48268390>, <__main__.BoardPosition object at 0x7f7c482683c8>, <__main__.BoardPosition object at 0x7f7c48268400>, <__main__.BoardPosition object at 0x7f7c48268438>, <__main__.BoardPosition object at 0x7f7c48268470>, <__main__.BoardPosition object at 0x7f7c482684a8>, <__main__.BoardPosition object at 0x7f7c482684e0>, <__main__.BoardPosition object at 0x7f7c48268518>, <__main__.BoardPosition object at 0x7f7c48268550>, <__main__.BoardPosition object at 0x7f7c48268588>, <__main__.BoardPosition object at 0x7f7c482685c0>, <__main__.BoardPosition object at 0x7f7c482685f8>, <__main__.BoardPosition object at 0x7f7c48268630>, <__main__.BoardPosition object at 0x7f7c48268668>, <__main__.BoardPosition object at 0x7f7c482686a0>, <__main__.BoardPosition object at 0x7f7c482686d8>, <__main__.BoardPosition object at 0x7f7c48268710>, <__main__.BoardPosition object at 0x7f7c48268748>, <__main__.BoardPosition object at 0x7f7c48268780>, <__main__.BoardPosition object at 0x7f7c482687b8>, <__main__.BoardPosition object at 0x7f7c482687f0>, <__main__.BoardPosition object at 0x7f7c48268828>, <__main__.BoardPosition object at 0x7f7c48268860>, <__main__.BoardPosition object at 0x7f7c48268898>, <__main__.BoardPosition object at 0x7f7c482688d0>, <__main__.BoardPosition object at 0x7f7c48268908>, <__main__.BoardPosition object at 0x7f7c48268940>, <__main__.BoardPosition object at 0x7f7c48268978>, <__main__.BoardPosition object at 0x7f7c482689b0>, <__main__.BoardPosition object at 0x7f7c482689e8>, <__main__.BoardPosition object at 0x7f7c48268a20>, <__main__.BoardPosition object at 0x7f7c48268a58>, <__main__.BoardPosition object at 0x7f7c48268a90>, <__main__.BoardPosition object at 0x7f7c48268ac8>, <__main__.BoardPosition object at 0x7f7c48268b00>, <__main__.BoardPosition object at 0x7f7c48268b38>, <__main__.BoardPosition object at 0x7f7c48268b70>, <__main__.BoardPosition object at 0x7f7c48268ba8>, <__main__.BoardPosition object at 0x7f7c48268be0>, <__main__.BoardPosition object at 0x7f7c48268c18>, <__main__.BoardPosition object at 0x7f7c48268c50>, <__main__.BoardPosition object at 0x7f7c48268c88>, <__main__.BoardPosition object at 0x7f7c48268cc0>, <__main__.BoardPosition object at 0x7f7c48268cf8>, <__main__.BoardPosition object at 0x7f7c48268d30>, <__main__.BoardPosition object at 0x7f7c48268d68>, <__main__.BoardPosition object at 0x7f7c48268da0>, <__main__.BoardPosition object at 0x7f7c48268dd8>, <__main__.BoardPosition object at 0x7f7c48268e10>, <__main__.BoardPosition object at 0x7f7c48268e48>, <__main__.BoardPosition object at 0x7f7c48268e80>, <__main__.BoardPosition object at 0x7f7c48268eb8>, <__main__.BoardPosition object at 0x7f7c48268ef0>, <__main__.BoardPosition object at 0x7f7c48268f28>, <__main__.BoardPosition object at 0x7f7c48268f60>, <__main__.BoardPosition object at 0x7f7c48268f98>, <__main__.BoardPosition object at 0x7f7c48268fd0>, <__main__.BoardPosition object at 0x7f7c481ec048>, <__main__.BoardPosition object at 0x7f7c481ec080>, <__main__.BoardPosition object at 0x7f7c481ec0b8>, <__main__.BoardPosition object at 0x7f7c481ec0f0>, <__main__.BoardPosition object at 0x7f7c481ec128>, <__main__.BoardPosition object at 0x7f7c481ec160>, <__main__.BoardPosition object at 0x7f7c481ec198>, <__main__.BoardPosition object at 0x7f7c481ec1d0>, <__main__.BoardPosition object at 0x7f7c481ec208>, <__main__.BoardPosition object at 0x7f7c481ec240>, <__main__.BoardPosition object at 0x7f7c481ec278>, <__main__.BoardPosition object at 0x7f7c481ec2b0>, <__main__.BoardPosition object at 0x7f7c481ec2e8>, <__main__.BoardPosition object at 0x7f7c481ec320>, <__main__.BoardPosition object at 0x7f7c481ec358>, <__main__.BoardPosition object at 0x7f7c481ec390>, <__main__.BoardPosition object at 0x7f7c481ec3c8>, <__main__.BoardPosition object at 0x7f7c481ec400>, <__main__.BoardPosition object at 0x7f7c481ec438>, <__main__.BoardPosition object at 0x7f7c481ec470>, <__main__.BoardPosition object at 0x7f7c481ec4a8>, <__main__.BoardPosition object at 0x7f7c481ec4e0>, <__main__.BoardPosition object at 0x7f7c481ec518>, <__main__.BoardPosition object at 0x7f7c481ec550>, <__main__.BoardPosition object at 0x7f7c481ec588>, <__main__.BoardPosition object at 0x7f7c481ec5c0>, <__main__.BoardPosition object at 0x7f7c481ec5f8>, <__main__.BoardPosition object at 0x7f7c481ec630>, <__main__.BoardPosition object at 0x7f7c481ec668>, <__main__.BoardPosition object at 0x7f7c481ec6a0>, <__main__.BoardPosition object at 0x7f7c481ec6d8>, <__main__.BoardPosition object at 0x7f7c481ec710>, <__main__.BoardPosition object at 0x7f7c481ec748>, <__main__.BoardPosition object at 0x7f7c481ec780>, <__main__.BoardPosition object at 0x7f7c481ec7b8>, <__main__.BoardPosition object at 0x7f7c481ec7f0>, <__main__.BoardPosition object at 0x7f7c481ec828>, <__main__.BoardPosition object at 0x7f7c481ec860>, <__main__.BoardPosition object at 0x7f7c481ec898>, <__main__.BoardPosition object at 0x7f7c481ec8d0>, <__main__.BoardPosition object at 0x7f7c481ec908>, <__main__.BoardPosition object at 0x7f7c481ec940>, <__main__.BoardPosition object at 0x7f7c481ec978>, <__main__.BoardPosition object at 0x7f7c481ec9b0>, <__main__.BoardPosition object at 0x7f7c481ec9e8>, <__main__.BoardPosition object at 0x7f7c481eca20>, <__main__.BoardPosition object at 0x7f7c481eca58>, <__main__.BoardPosition object at 0x7f7c481eca90>, <__main__.BoardPosition object at 0x7f7c481ecac8>, <__main__.BoardPosition object at 0x7f7c481ecb00>, <__main__.BoardPosition object at 0x7f7c481ecb38>, <__main__.BoardPosition object at 0x7f7c481ecb70>, <__main__.BoardPosition object at 0x7f7c481ecba8>, <__main__.BoardPosition object at 0x7f7c481ecbe0>, <__main__.BoardPosition object at 0x7f7c481ecc18>, <__main__.BoardPosition object at 0x7f7c481ecc50>, <__main__.BoardPosition object at 0x7f7c481ecc88>, <__main__.BoardPosition object at 0x7f7c481eccc0>, <__main__.BoardPosition object at 0x7f7c481eccf8>, <__main__.BoardPosition object at 0x7f7c481ecd30>, <__main__.BoardPosition object at 0x7f7c481ecd68>, <__main__.BoardPosition object at 0x7f7c481ecda0>, <__main__.BoardPosition object at 0x7f7c481ecdd8>, <__main__.BoardPosition object at 0x7f7c481ece10>, <__main__.BoardPosition object at 0x7f7c481ece48>, <__main__.BoardPosition object at 0x7f7c481ece80>, <__main__.BoardPosition object at 0x7f7c481eceb8>, <__main__.BoardPosition object at 0x7f7c481ecef0>, <__main__.BoardPosition object at 0x7f7c481ecf28>, <__main__.BoardPosition object at 0x7f7c481ecf60>, <__main__.BoardPosition object at 0x7f7c481ecf98>, <__main__.BoardPosition object at 0x7f7c481ecfd0>, <__main__.BoardPosition object at 0x7f7c481ef048>, <__main__.BoardPosition object at 0x7f7c481ef080>, <__main__.BoardPosition object at 0x7f7c481ef0b8>, <__main__.BoardPosition object at 0x7f7c481ef0f0>, <__main__.BoardPosition object at 0x7f7c481ef128>, <__main__.BoardPosition object at 0x7f7c481ef160>, <__main__.BoardPosition object at 0x7f7c481ef198>, <__main__.BoardPosition object at 0x7f7c481ef1d0>, <__main__.BoardPosition object at 0x7f7c481ef208>, <__main__.BoardPosition object at 0x7f7c481ef240>, <__main__.BoardPosition object at 0x7f7c481ef278>, <__main__.BoardPosition object at 0x7f7c481ef2b0>, <__main__.BoardPosition object at 0x7f7c481ef2e8>, <__main__.BoardPosition object at 0x7f7c481ef320>, <__main__.BoardPosition object at 0x7f7c481ef358>, <__main__.BoardPosition object at 0x7f7c481ef390>, <__main__.BoardPosition object at 0x7f7c481ef3c8>, <__main__.BoardPosition object at 0x7f7c481ef400>, <__main__.BoardPosition object at 0x7f7c481ef438>, <__main__.BoardPosition object at 0x7f7c481ef470>, <__main__.BoardPosition object at 0x7f7c481ef4a8>, <__main__.BoardPosition object at 0x7f7c481ef4e0>, <__main__.BoardPosition object at 0x7f7c481ef518>, <__main__.BoardPosition object at 0x7f7c481ef550>, <__main__.BoardPosition object at 0x7f7c481ef588>, <__main__.BoardPosition object at 0x7f7c481ef5c0>, <__main__.BoardPosition object at 0x7f7c481ef5f8>, <__main__.BoardPosition object at 0x7f7c481ef630>, <__main__.BoardPosition object at 0x7f7c481ef668>, <__main__.BoardPosition object at 0x7f7c481ef6a0>, <__main__.BoardPosition object at 0x7f7c481ef6d8>, <__main__.BoardPosition object at 0x7f7c481ef710>, <__main__.BoardPosition object at 0x7f7c481ef748>, <__main__.BoardPosition object at 0x7f7c481ef780>, <__main__.BoardPosition object at 0x7f7c481ef7b8>, <__main__.BoardPosition object at 0x7f7c481ef7f0>, <__main__.BoardPosition object at 0x7f7c481ef828>, <__main__.BoardPosition object at 0x7f7c481ef860>, <__main__.BoardPosition object at 0x7f7c481ef898>, <__main__.BoardPosition object at 0x7f7c481ef8d0>, <__main__.BoardPosition object at 0x7f7c481ef908>, <__main__.BoardPosition object at 0x7f7c481ef940>, <__main__.BoardPosition object at 0x7f7c481ef978>, <__main__.BoardPosition object at 0x7f7c481ef9b0>, <__main__.BoardPosition object at 0x7f7c481ef9e8>, <__main__.BoardPosition object at 0x7f7c481efa20>, <__main__.BoardPosition object at 0x7f7c481efa58>, <__main__.BoardPosition object at 0x7f7c481efa90>, <__main__.BoardPosition object at 0x7f7c481efac8>, <__main__.BoardPosition object at 0x7f7c481efb00>, <__main__.BoardPosition object at 0x7f7c481efb38>, <__main__.BoardPosition object at 0x7f7c481efb70>, <__main__.BoardPosition object at 0x7f7c481efba8>, <__main__.BoardPosition object at 0x7f7c481efbe0>, <__main__.BoardPosition object at 0x7f7c481efc18>, <__main__.BoardPosition object at 0x7f7c481efc50>, <__main__.BoardPosition object at 0x7f7c481efc88>, <__main__.BoardPosition object at 0x7f7c481efcc0>, <__main__.BoardPosition object at 0x7f7c481efcf8>, <__main__.BoardPosition object at 0x7f7c481efd30>, <__main__.BoardPosition object at 0x7f7c481efd68>, <__main__.BoardPosition object at 0x7f7c481efda0>, <__main__.BoardPosition object at 0x7f7c481efdd8>, <__main__.BoardPosition object at 0x7f7c481efe10>, <__main__.BoardPosition object at 0x7f7c481efe48>, <__main__.BoardPosition object at 0x7f7c481efe80>, <__main__.BoardPosition object at 0x7f7c481efeb8>, <__main__.BoardPosition object at 0x7f7c481efef0>, <__main__.BoardPosition object at 0x7f7c481eff28>, <__main__.BoardPosition object at 0x7f7c481eff60>, <__main__.BoardPosition object at 0x7f7c481eff98>, <__main__.BoardPosition object at 0x7f7c481effd0>, <__main__.BoardPosition object at 0x7f7c481f2048>, <__main__.BoardPosition object at 0x7f7c481f2080>, <__main__.BoardPosition object at 0x7f7c481f20b8>, <__main__.BoardPosition object at 0x7f7c481f20f0>, <__main__.BoardPosition object at 0x7f7c481f2128>, <__main__.BoardPosition object at 0x7f7c481f2160>, <__main__.BoardPosition object at 0x7f7c481f2198>, <__main__.BoardPosition object at 0x7f7c481f21d0>, <__main__.BoardPosition object at 0x7f7c481f2208>, <__main__.BoardPosition object at 0x7f7c481f2240>, <__main__.BoardPosition object at 0x7f7c481f2278>, <__main__.BoardPosition object at 0x7f7c481f22b0>, <__main__.BoardPosition object at 0x7f7c481f22e8>, <__main__.BoardPosition object at 0x7f7c481f2320>, <__main__.BoardPosition object at 0x7f7c481f2358>, <__main__.BoardPosition object at 0x7f7c481f2390>, <__main__.BoardPosition object at 0x7f7c481f23c8>, <__main__.BoardPosition object at 0x7f7c481f2400>, <__main__.BoardPosition object at 0x7f7c481f2438>, <__main__.BoardPosition object at 0x7f7c481f2470>, <__main__.BoardPosition object at 0x7f7c481f24a8>, <__main__.BoardPosition object at 0x7f7c481f24e0>, <__main__.BoardPosition object at 0x7f7c481f2518>, <__main__.BoardPosition object at 0x7f7c481f2550>, <__main__.BoardPosition object at 0x7f7c481f2588>, <__main__.BoardPosition object at 0x7f7c481f25c0>, <__main__.BoardPosition object at 0x7f7c481f25f8>, <__main__.BoardPosition object at 0x7f7c481f2630>, <__main__.BoardPosition object at 0x7f7c481f2668>, <__main__.BoardPosition object at 0x7f7c481f26a0>, <__main__.BoardPosition object at 0x7f7c481f26d8>, <__main__.BoardPosition object at 0x7f7c481f2710>, <__main__.BoardPosition object at 0x7f7c481f2748>, <__main__.BoardPosition object at 0x7f7c481f2780>, <__main__.BoardPosition object at 0x7f7c481f27b8>, <__main__.BoardPosition object at 0x7f7c481f27f0>, <__main__.BoardPosition object at 0x7f7c481f2828>, <__main__.BoardPosition object at 0x7f7c481f2860>, <__main__.BoardPosition object at 0x7f7c481f2898>, <__main__.BoardPosition object at 0x7f7c481f28d0>, <__main__.BoardPosition object at 0x7f7c481f2908>, <__main__.BoardPosition object at 0x7f7c481f2940>, <__main__.BoardPosition object at 0x7f7c481f2978>, <__main__.BoardPosition object at 0x7f7c481f29b0>, <__main__.BoardPosition object at 0x7f7c481f29e8>, <__main__.BoardPosition object at 0x7f7c481f2a20>, <__main__.BoardPosition object at 0x7f7c481f2a58>, <__main__.BoardPosition object at 0x7f7c481f2a90>, <__main__.BoardPosition object at 0x7f7c481f2ac8>, <__main__.BoardPosition object at 0x7f7c481f2b00>, <__main__.BoardPosition object at 0x7f7c481f2b38>, <__main__.BoardPosition object at 0x7f7c481f2b70>, <__main__.BoardPosition object at 0x7f7c481f2ba8>, <__main__.BoardPosition object at 0x7f7c481f2be0>, <__main__.BoardPosition object at 0x7f7c481f2c18>, <__main__.BoardPosition object at 0x7f7c481f2c50>, <__main__.BoardPosition object at 0x7f7c481f2c88>, <__main__.BoardPosition object at 0x7f7c481f2cc0>, <__main__.BoardPosition object at 0x7f7c481f2cf8>, <__main__.BoardPosition object at 0x7f7c481f2d30>, <__main__.BoardPosition object at 0x7f7c481f2d68>, <__main__.BoardPosition object at 0x7f7c481f2da0>, <__main__.BoardPosition object at 0x7f7c481f2dd8>, <__main__.BoardPosition object at 0x7f7c481f2e10>, <__main__.BoardPosition object at 0x7f7c481f2e48>, <__main__.BoardPosition object at 0x7f7c481f2e80>, <__main__.BoardPosition object at 0x7f7c481f2eb8>, <__main__.BoardPosition object at 0x7f7c481f2ef0>, <__main__.BoardPosition object at 0x7f7c481f2f28>, <__main__.BoardPosition object at 0x7f7c481f2f60>, <__main__.BoardPosition object at 0x7f7c481f2f98>, <__main__.BoardPosition object at 0x7f7c481f2fd0>, <__main__.BoardPosition object at 0x7f7c481f4048>, <__main__.BoardPosition object at 0x7f7c481f4080>, <__main__.BoardPosition object at 0x7f7c481f40b8>, <__main__.BoardPosition object at 0x7f7c481f40f0>, <__main__.BoardPosition object at 0x7f7c481f4128>, <__main__.BoardPosition object at 0x7f7c481f4160>, <__main__.BoardPosition object at 0x7f7c481f4198>, <__main__.BoardPosition object at 0x7f7c481f41d0>, <__main__.BoardPosition object at 0x7f7c481f4208>, <__main__.BoardPosition object at 0x7f7c481f4240>, <__main__.BoardPosition object at 0x7f7c481f4278>, <__main__.BoardPosition object at 0x7f7c481f42b0>, <__main__.BoardPosition object at 0x7f7c481f42e8>, <__main__.BoardPosition object at 0x7f7c481f4320>, <__main__.BoardPosition object at 0x7f7c481f4358>, <__main__.BoardPosition object at 0x7f7c481f4390>, <__main__.BoardPosition object at 0x7f7c481f43c8>, <__main__.BoardPosition object at 0x7f7c481f4400>, <__main__.BoardPosition object at 0x7f7c481f4438>, <__main__.BoardPosition object at 0x7f7c481f4470>, <__main__.BoardPosition object at 0x7f7c481f44a8>, <__main__.BoardPosition object at 0x7f7c481f44e0>, <__main__.BoardPosition object at 0x7f7c481f4518>, <__main__.BoardPosition object at 0x7f7c481f4550>, <__main__.BoardPosition object at 0x7f7c481f4588>, <__main__.BoardPosition object at 0x7f7c481f45c0>, <__main__.BoardPosition object at 0x7f7c481f45f8>, <__main__.BoardPosition object at 0x7f7c481f4630>, <__main__.BoardPosition object at 0x7f7c481f4668>, <__main__.BoardPosition object at 0x7f7c481f46a0>, <__main__.BoardPosition object at 0x7f7c481f46d8>, <__main__.BoardPosition object at 0x7f7c481f4710>, <__main__.BoardPosition object at 0x7f7c481f4748>, <__main__.BoardPosition object at 0x7f7c481f4780>, <__main__.BoardPosition object at 0x7f7c481f47b8>, <__main__.BoardPosition object at 0x7f7c481f47f0>, <__main__.BoardPosition object at 0x7f7c481f4828>, <__main__.BoardPosition object at 0x7f7c481f4860>, <__main__.BoardPosition object at 0x7f7c481f4898>, <__main__.BoardPosition object at 0x7f7c481f48d0>, <__main__.BoardPosition object at 0x7f7c481f4908>, <__main__.BoardPosition object at 0x7f7c481f4940>, <__main__.BoardPosition object at 0x7f7c481f4978>, <__main__.BoardPosition object at 0x7f7c481f49b0>, <__main__.BoardPosition object at 0x7f7c481f49e8>, <__main__.BoardPosition object at 0x7f7c481f4a20>, <__main__.BoardPosition object at 0x7f7c481f4a58>, <__main__.BoardPosition object at 0x7f7c481f4a90>, <__main__.BoardPosition object at 0x7f7c481f4ac8>, <__main__.BoardPosition object at 0x7f7c481f4b00>, <__main__.BoardPosition object at 0x7f7c481f4b38>, <__main__.BoardPosition object at 0x7f7c481f4b70>, <__main__.BoardPosition object at 0x7f7c481f4ba8>, <__main__.BoardPosition object at 0x7f7c481f4be0>, <__main__.BoardPosition object at 0x7f7c481f4c18>, <__main__.BoardPosition object at 0x7f7c481f4c50>, <__main__.BoardPosition object at 0x7f7c481f4c88>, <__main__.BoardPosition object at 0x7f7c481f4cc0>, <__main__.BoardPosition object at 0x7f7c481f4cf8>, <__main__.BoardPosition object at 0x7f7c481f4d30>, <__main__.BoardPosition object at 0x7f7c481f4d68>, <__main__.BoardPosition object at 0x7f7c481f4da0>, <__main__.BoardPosition object at 0x7f7c481f4dd8>, <__main__.BoardPosition object at 0x7f7c481f4e10>, <__main__.BoardPosition object at 0x7f7c481f4e48>, <__main__.BoardPosition object at 0x7f7c481f4e80>, <__main__.BoardPosition object at 0x7f7c481f4eb8>, <__main__.BoardPosition object at 0x7f7c481f4ef0>, <__main__.BoardPosition object at 0x7f7c481f4f28>, <__main__.BoardPosition object at 0x7f7c481f4f60>, <__main__.BoardPosition object at 0x7f7c481f4f98>, <__main__.BoardPosition object at 0x7f7c481f4fd0>, <__main__.BoardPosition object at 0x7f7c481f8048>, <__main__.BoardPosition object at 0x7f7c481f8080>, <__main__.BoardPosition object at 0x7f7c481f80b8>, <__main__.BoardPosition object at 0x7f7c481f80f0>, <__main__.BoardPosition object at 0x7f7c481f8128>, <__main__.BoardPosition object at 0x7f7c481f8160>, <__main__.BoardPosition object at 0x7f7c481f8198>, <__main__.BoardPosition object at 0x7f7c481f81d0>, <__main__.BoardPosition object at 0x7f7c481f8208>, <__main__.BoardPosition object at 0x7f7c481f8240>, <__main__.BoardPosition object at 0x7f7c481f8278>, <__main__.BoardPosition object at 0x7f7c481f82b0>, <__main__.BoardPosition object at 0x7f7c481f82e8>, <__main__.BoardPosition object at 0x7f7c481f8320>, <__main__.BoardPosition object at 0x7f7c481f8358>, <__main__.BoardPosition object at 0x7f7c481f8390>, <__main__.BoardPosition object at 0x7f7c481f83c8>, <__main__.BoardPosition object at 0x7f7c481f8400>, <__main__.BoardPosition object at 0x7f7c481f8438>, <__main__.BoardPosition object at 0x7f7c481f8470>, <__main__.BoardPosition object at 0x7f7c481f84a8>, <__main__.BoardPosition object at 0x7f7c481f84e0>, <__main__.BoardPosition object at 0x7f7c481f8518>, <__main__.BoardPosition object at 0x7f7c481f8550>, <__main__.BoardPosition object at 0x7f7c481f8588>, <__main__.BoardPosition object at 0x7f7c481f85c0>, <__main__.BoardPosition object at 0x7f7c481f85f8>, <__main__.BoardPosition object at 0x7f7c481f8630>, <__main__.BoardPosition object at 0x7f7c481f8668>, <__main__.BoardPosition object at 0x7f7c481f86a0>, <__main__.BoardPosition object at 0x7f7c481f86d8>, <__main__.BoardPosition object at 0x7f7c481f8710>, <__main__.BoardPosition object at 0x7f7c481f8748>, <__main__.BoardPosition object at 0x7f7c481f8780>, <__main__.BoardPosition object at 0x7f7c481f87b8>, <__main__.BoardPosition object at 0x7f7c481f87f0>, <__main__.BoardPosition object at 0x7f7c481f8828>, <__main__.BoardPosition object at 0x7f7c481f8860>, <__main__.BoardPosition object at 0x7f7c481f8898>, <__main__.BoardPosition object at 0x7f7c481f88d0>, <__main__.BoardPosition object at 0x7f7c481f8908>, <__main__.BoardPosition object at 0x7f7c481f8940>, <__main__.BoardPosition object at 0x7f7c481f8978>, <__main__.BoardPosition object at 0x7f7c481f89b0>, <__main__.BoardPosition object at 0x7f7c481f89e8>, <__main__.BoardPosition object at 0x7f7c481f8a20>, <__main__.BoardPosition object at 0x7f7c481f8a58>, <__main__.BoardPosition object at 0x7f7c481f8a90>, <__main__.BoardPosition object at 0x7f7c481f8ac8>, <__main__.BoardPosition object at 0x7f7c481f8b00>, <__main__.BoardPosition object at 0x7f7c481f8b38>, <__main__.BoardPosition object at 0x7f7c481f8b70>, <__main__.BoardPosition object at 0x7f7c481f8ba8>, <__main__.BoardPosition object at 0x7f7c481f8be0>, <__main__.BoardPosition object at 0x7f7c481f8c18>, <__main__.BoardPosition object at 0x7f7c481f8c50>, <__main__.BoardPosition object at 0x7f7c481f8c88>, <__main__.BoardPosition object at 0x7f7c481f8cc0>, <__main__.BoardPosition object at 0x7f7c481f8cf8>, <__main__.BoardPosition object at 0x7f7c481f8d30>, <__main__.BoardPosition object at 0x7f7c481f8d68>, <__main__.BoardPosition object at 0x7f7c481f8da0>, <__main__.BoardPosition object at 0x7f7c481f8dd8>, <__main__.BoardPosition object at 0x7f7c481f8e10>, <__main__.BoardPosition object at 0x7f7c481f8e48>, <__main__.BoardPosition object at 0x7f7c481f8e80>, <__main__.BoardPosition object at 0x7f7c481f8eb8>, <__main__.BoardPosition object at 0x7f7c481f8ef0>, <__main__.BoardPosition object at 0x7f7c481f8f28>, <__main__.BoardPosition object at 0x7f7c481f8f60>, <__main__.BoardPosition object at 0x7f7c481f8f98>, <__main__.BoardPosition object at 0x7f7c481f8fd0>, <__main__.BoardPosition object at 0x7f7c481fb048>, <__main__.BoardPosition object at 0x7f7c481fb080>, <__main__.BoardPosition object at 0x7f7c481fb0b8>, <__main__.BoardPosition object at 0x7f7c481fb0f0>, <__main__.BoardPosition object at 0x7f7c481fb128>, <__main__.BoardPosition object at 0x7f7c481fb160>, <__main__.BoardPosition object at 0x7f7c481fb198>, <__main__.BoardPosition object at 0x7f7c481fb1d0>, <__main__.BoardPosition object at 0x7f7c481fb208>, <__main__.BoardPosition object at 0x7f7c481fb240>, <__main__.BoardPosition object at 0x7f7c481fb278>, <__main__.BoardPosition object at 0x7f7c481fb2b0>, <__main__.BoardPosition object at 0x7f7c481fb2e8>, <__main__.BoardPosition object at 0x7f7c481fb320>, <__main__.BoardPosition object at 0x7f7c481fb358>, <__main__.BoardPosition object at 0x7f7c481fb390>, <__main__.BoardPosition object at 0x7f7c481fb3c8>, <__main__.BoardPosition object at 0x7f7c481fb400>, <__main__.BoardPosition object at 0x7f7c481fb438>, <__main__.BoardPosition object at 0x7f7c481fb470>, <__main__.BoardPosition object at 0x7f7c481fb4a8>, <__main__.BoardPosition object at 0x7f7c481fb4e0>, <__main__.BoardPosition object at 0x7f7c481fb518>, <__main__.BoardPosition object at 0x7f7c481fb550>, <__main__.BoardPosition object at 0x7f7c481fb588>, <__main__.BoardPosition object at 0x7f7c481fb5c0>, <__main__.BoardPosition object at 0x7f7c481fb5f8>, <__main__.BoardPosition object at 0x7f7c481fb630>, <__main__.BoardPosition object at 0x7f7c481fb668>, <__main__.BoardPosition object at 0x7f7c481fb6a0>, <__main__.BoardPosition object at 0x7f7c481fb6d8>, <__main__.BoardPosition object at 0x7f7c481fb710>, <__main__.BoardPosition object at 0x7f7c481fb748>, <__main__.BoardPosition object at 0x7f7c481fb780>, <__main__.BoardPosition object at 0x7f7c481fb7b8>, <__main__.BoardPosition object at 0x7f7c481fb7f0>, <__main__.BoardPosition object at 0x7f7c481fb828>, <__main__.BoardPosition object at 0x7f7c481fb860>, <__main__.BoardPosition object at 0x7f7c481fb898>, <__main__.BoardPosition object at 0x7f7c481fb8d0>, <__main__.BoardPosition object at 0x7f7c481fb908>, <__main__.BoardPosition object at 0x7f7c481fb940>, <__main__.BoardPosition object at 0x7f7c481fb978>, <__main__.BoardPosition object at 0x7f7c481fb9b0>, <__main__.BoardPosition object at 0x7f7c481fb9e8>, <__main__.BoardPosition object at 0x7f7c481fba20>, <__main__.BoardPosition object at 0x7f7c481fba58>, <__main__.BoardPosition object at 0x7f7c481fba90>, <__main__.BoardPosition object at 0x7f7c481fbac8>, <__main__.BoardPosition object at 0x7f7c481fbb00>, <__main__.BoardPosition object at 0x7f7c481fbb38>, <__main__.BoardPosition object at 0x7f7c481fbb70>, <__main__.BoardPosition object at 0x7f7c481fbba8>, <__main__.BoardPosition object at 0x7f7c481fbbe0>, <__main__.BoardPosition object at 0x7f7c481fbc18>, <__main__.BoardPosition object at 0x7f7c481fbc50>, <__main__.BoardPosition object at 0x7f7c481fbc88>, <__main__.BoardPosition object at 0x7f7c481fbcc0>, <__main__.BoardPosition object at 0x7f7c481fbcf8>, <__main__.BoardPosition object at 0x7f7c481fbd30>, <__main__.BoardPosition object at 0x7f7c481fbd68>, <__main__.BoardPosition object at 0x7f7c481fbda0>, <__main__.BoardPosition object at 0x7f7c481fbdd8>, <__main__.BoardPosition object at 0x7f7c481fbe10>, <__main__.BoardPosition object at 0x7f7c481fbe48>, <__main__.BoardPosition object at 0x7f7c481fbe80>, <__main__.BoardPosition object at 0x7f7c481fbeb8>, <__main__.BoardPosition object at 0x7f7c481fbef0>, <__main__.BoardPosition object at 0x7f7c481fbf28>, <__main__.BoardPosition object at 0x7f7c481fbf60>, <__main__.BoardPosition object at 0x7f7c481fbf98>, <__main__.BoardPosition object at 0x7f7c481fbfd0>, <__main__.BoardPosition object at 0x7f7c481fd048>, <__main__.BoardPosition object at 0x7f7c481fd080>, <__main__.BoardPosition object at 0x7f7c481fd0b8>, <__main__.BoardPosition object at 0x7f7c481fd0f0>, <__main__.BoardPosition object at 0x7f7c481fd128>, <__main__.BoardPosition object at 0x7f7c481fd160>, <__main__.BoardPosition object at 0x7f7c481fd198>, <__main__.BoardPosition object at 0x7f7c481fd1d0>, <__main__.BoardPosition object at 0x7f7c481fd208>, <__main__.BoardPosition object at 0x7f7c481fd240>, <__main__.BoardPosition object at 0x7f7c481fd278>, <__main__.BoardPosition object at 0x7f7c481fd2b0>, <__main__.BoardPosition object at 0x7f7c481fd2e8>, <__main__.BoardPosition object at 0x7f7c481fd320>, <__main__.BoardPosition object at 0x7f7c481fd358>, <__main__.BoardPosition object at 0x7f7c481fd390>, <__main__.BoardPosition object at 0x7f7c481fd3c8>, <__main__.BoardPosition object at 0x7f7c481fd400>, <__main__.BoardPosition object at 0x7f7c481fd438>, <__main__.BoardPosition object at 0x7f7c481fd470>, <__main__.BoardPosition object at 0x7f7c481fd4a8>, <__main__.BoardPosition object at 0x7f7c481fd4e0>, <__main__.BoardPosition object at 0x7f7c481fd518>, <__main__.BoardPosition object at 0x7f7c481fd550>, <__main__.BoardPosition object at 0x7f7c481fd588>, <__main__.BoardPosition object at 0x7f7c481fd5c0>, <__main__.BoardPosition object at 0x7f7c481fd5f8>, <__main__.BoardPosition object at 0x7f7c481fd630>, <__main__.BoardPosition object at 0x7f7c481fd668>, <__main__.BoardPosition object at 0x7f7c481fd6a0>, <__main__.BoardPosition object at 0x7f7c481fd6d8>]\n"
          ],
          "name": "stdout"
        }
      ]
    },
    {
      "cell_type": "code",
      "metadata": {
        "id": "FqHnfWUzkXjL",
        "colab_type": "code",
        "colab": {
          "base_uri": "https://localhost:8080/",
          "height": 102
        },
        "outputId": "6c5c96f5-e044-491f-84da-98b3d37559a9"
      },
      "source": [
        "iteration = 0;\n",
        "while not stop():\n",
        "\t# keep iteratin till  you find the best position\n",
        "\tpopulation = GA(iteration)\n",
        "\titeration +=1 \n",
        "\n",
        "print(\"Iteration number : \", iteration)\n",
        "for each in population:\n",
        "\tif each.fitness == 28:\n",
        "\t\tprint(each.sequence)"
      ],
      "execution_count": null,
      "outputs": [
        {
          "output_type": "stream",
          "text": [
            "<__main__.BoardPosition object at 0x7f7c48263c88>  printing population[0]\n",
            "Iteration number :  0\n",
            "[4 6 0 2 7 5 3 1]\n",
            "[4 6 1 5 2 0 7 3]\n",
            "[5 0 4 1 7 2 6 3]\n"
          ],
          "name": "stdout"
        }
      ]
    },
    {
      "cell_type": "code",
      "metadata": {
        "id": "Yb0skkz1hsPQ",
        "colab_type": "code",
        "colab": {}
      },
      "source": [
        ""
      ],
      "execution_count": null,
      "outputs": []
    },
    {
      "cell_type": "code",
      "metadata": {
        "id": "wr3rE8cZkX2T",
        "colab_type": "code",
        "colab": {
          "base_uri": "https://localhost:8080/",
          "height": 34
        },
        "outputId": "81b8562a-4aeb-49c6-f893-abe71742122f"
      },
      "source": [
        "import requests\n",
        "\n",
        "url='https://lf8q0kx152.execute-api.us-east-2.amazonaws.com/default/computeFitnessScore'\n",
        "x=requests.post(url,json={\"qconfig\":\"4 6 0 2 7 5 3 1\",\"userID\":133731,\"githubLink\":\"https://github.com/rahulrjk19/cts_ds_summit_2020/blob/master/8_queens_problem_ga.ipynb\"})\n",
        "print(x.text)"
      ],
      "execution_count": null,
      "outputs": [
        {
          "output_type": "stream",
          "text": [
            "{\"No Of Attempts lapsed out of 3\": 1, \"submittedConfiguration\": [4, 6, 0, 2, 7, 5, 3, 1], \"configurationStatus\": \"Valid\", \"configurationScore\": 100.0}\n"
          ],
          "name": "stdout"
        }
      ]
    },
    {
      "cell_type": "code",
      "metadata": {
        "id": "RGSLi3X5kYGc",
        "colab_type": "code",
        "colab": {}
      },
      "source": [
        ""
      ],
      "execution_count": null,
      "outputs": []
    },
    {
      "cell_type": "code",
      "metadata": {
        "id": "RrYZ0ByHkYNQ",
        "colab_type": "code",
        "colab": {}
      },
      "source": [
        ""
      ],
      "execution_count": null,
      "outputs": []
    },
    {
      "cell_type": "code",
      "metadata": {
        "id": "Pt6-reP9kYXU",
        "colab_type": "code",
        "colab": {}
      },
      "source": [
        ""
      ],
      "execution_count": null,
      "outputs": []
    }
  ]
}