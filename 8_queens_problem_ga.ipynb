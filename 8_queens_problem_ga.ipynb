{
  "nbformat": 4,
  "nbformat_minor": 0,
  "metadata": {
    "colab": {
      "name": "8_queens_problem_ga.ipynb",
      "provenance": [],
      "collapsed_sections": []
    },
    "kernelspec": {
      "name": "python3",
      "display_name": "Python 3"
    }
  },
  "cells": [
    {
      "cell_type": "code",
      "metadata": {
        "id": "zFWmWjUEgySa",
        "colab_type": "code",
        "colab": {}
      },
      "source": [
        "import sys\n",
        "import numpy as np\n",
        "import requests \n",
        "\n",
        "# default varibales\n",
        "nQueens = 8\n",
        "STOP_CTR = 28\n",
        "MUTATE = 0.000001\n",
        "MUTATE_FLAG = True\n",
        "MAX_ITER = 100000\n",
        "POPULATION = None"
      ],
      "execution_count": 25,
      "outputs": []
    },
    {
      "cell_type": "code",
      "metadata": {
        "id": "ddUay4dQCKL_",
        "colab_type": "code",
        "colab": {}
      },
      "source": [
        "class BoardPosition:\n",
        "\tdef __init__(self):\n",
        "\t\tself.sequence = None\n",
        "\t\tself.fitness = None\n",
        "\t\tself.survival = None\n",
        "\tdef setSequence(self, val):\n",
        "\t\tself.sequence = val\n",
        "\tdef setFitness(self, fitness):\n",
        "\t\tself.fitness = fitness\n",
        "\tdef setSurvival(self, val):\n",
        "\t\tself.survival = val\n",
        "\tdef getAttr(self):\n",
        "\t\treturn {'sequence':sequence, 'fitness':fitness, 'survival':survival}"
      ],
      "execution_count": 26,
      "outputs": []
    },
    {
      "cell_type": "code",
      "metadata": {
        "id": "fGn-rB1yClUm",
        "colab_type": "code",
        "colab": {}
      },
      "source": [
        "def fitness(chromosome = None):\n",
        "\tclashes = 0;\n",
        "\trow_col_clashes = abs(len(chromosome) - len(np.unique(chromosome)))\n",
        "\tclashes += row_col_clashes\n",
        "\n",
        "\t# calculate diagonal clashes\n",
        "\tfor i in range(len(chromosome)):\n",
        "\t\tfor j in range(len(chromosome)):\n",
        "\t\t\tif ( i != j):\n",
        "\t\t\t\tdx = abs(i-j)\n",
        "\t\t\t\tdy = abs(chromosome[i] - chromosome[j])\n",
        "\t\t\t\tif(dx == dy):\n",
        "\t\t\t\t\tclashes += 1\n",
        "\n",
        "\treturn 28 - clashes\t"
      ],
      "execution_count": 27,
      "outputs": []
    },
    {
      "cell_type": "code",
      "metadata": {
        "id": "yrs1CK4HCo6b",
        "colab_type": "code",
        "colab": {}
      },
      "source": [
        "def generateChromosome():\n",
        "\tglobal nQueens\n",
        "\tinit_distribution = np.arange(nQueens)\n",
        "\tnp.random.shuffle(init_distribution)\n",
        "\treturn init_distribution"
      ],
      "execution_count": 28,
      "outputs": []
    },
    {
      "cell_type": "code",
      "metadata": {
        "id": "kgIeskvMCpHY",
        "colab_type": "code",
        "colab": {}
      },
      "source": [
        "def generatePopulation(population_size = 100):\n",
        "\tglobal POPULATION\n",
        "\n",
        "\tPOPULATION = population_size\n",
        "\n",
        "\tpopulation = [BoardPosition() for i in range(population_size)]\n",
        "\tfor i in range(population_size):\n",
        "\t\tpopulation[i].setSequence(generateChromosome())\n",
        "\t\tpopulation[i].setFitness(fitness(population[i].sequence))\n",
        "\n",
        "\treturn population"
      ],
      "execution_count": 29,
      "outputs": []
    },
    {
      "cell_type": "code",
      "metadata": {
        "id": "-yCeouuZCpS3",
        "colab_type": "code",
        "colab": {}
      },
      "source": [
        "def getParent():\n",
        "\tglobals()\t\n",
        "\tparent1, parent2 = None, None\n",
        "\t\n",
        "\tsummation_fitness = np.sum([x.fitness for x in population])\n",
        "\tfor each in population:\n",
        "\t\teach.survival = each.fitness/(summation_fitness*1.0)\n",
        "\n",
        "\twhile True:\n",
        "\t\tparent1_random = np.random.rand()\n",
        "\t\tparent1_rn = [x for x in population if x.survival <= parent1_random]\n",
        "\t\ttry:\n",
        "\t\t\tparent1 = parent1_rn[0]\n",
        "\t\t\tbreak\n",
        "\t\texcept:\n",
        "\t\t\tpass\n",
        "\n",
        "\twhile True:\n",
        "\t\tparent2_random = np.random.rand()\n",
        "\t\tparent2_rn = [x for x in population if x.survival <= parent2_random]\n",
        "\t\ttry:\n",
        "\t\t\tt = np.random.randint(len(parent2_rn))\n",
        "\t\t\tparent2 = parent2_rn[t]\n",
        "\t\t\tif parent2 != parent1:\n",
        "\t\t\t\tbreak\n",
        "\t\t\telse:\n",
        "\t\t\t\tprint(\"equal parents\")\n",
        "\t\t\t\tcontinue\n",
        "\t\texcept:\n",
        "\t\t\tprint(\"exception\")\n",
        "\t\t\tcontinue\n",
        "\n",
        "\tif parent1 is not None and parent2 is not None:\n",
        "\t\treturn parent1, parent2\n",
        "\telse:\n",
        "\t\tsys.exit(-1)"
      ],
      "execution_count": 30,
      "outputs": []
    },
    {
      "cell_type": "code",
      "metadata": {
        "id": "BelVpClmCpsF",
        "colab_type": "code",
        "colab": {}
      },
      "source": [
        "def reproduce_crossover(parent1, parent2):\n",
        "\tglobals()\n",
        "\tn = len(parent1.sequence)\n",
        "\tc = np.random.randint(n, size=1)\n",
        "\tchild = BoardPosition()\n",
        "\tchild.sequence = []\n",
        "\tchild.sequence.extend(parent1.sequence[0:c])\n",
        "\tchild.sequence.extend(parent2.sequence[c:])\n",
        "\tchild.setFitness(fitness(child.sequence))\n",
        "\treturn child"
      ],
      "execution_count": 31,
      "outputs": []
    },
    {
      "cell_type": "code",
      "metadata": {
        "id": "oz-H0Jr3Cp1h",
        "colab_type": "code",
        "colab": {}
      },
      "source": [
        "def mutate(child):\n",
        "\tif child.survival < MUTATE:\n",
        "\t\tc = np.random.randint(8)\n",
        "\t\tchild.sequence[c] = np.random.randint(8)\n",
        "\treturn child\n"
      ],
      "execution_count": 32,
      "outputs": []
    },
    {
      "cell_type": "code",
      "metadata": {
        "id": "F0xXHBECCpmT",
        "colab_type": "code",
        "colab": {}
      },
      "source": [
        "def GA(iteration):\n",
        "\tprint(\" #\"*10 ,\"Executing Genetic  generation : \", iteration , \" #\"*10)\n",
        "\tglobals()\n",
        "\tnewpopulation = []\n",
        "\tfor i in range(len(population)):\n",
        "\t\tparent1, parent2 = getParent()\n",
        "\t\tprint(\"Parents generated : \", parent1, parent2)\n",
        "\n",
        "\t\tchild = reproduce_crossover(parent1, parent2)\n",
        "\n",
        "\t\tif(MUTATE_FLAG):\n",
        "\t\t\tchild = mutate(child)\n",
        "\n",
        "\t\tnewpopulation.append(child)\n",
        "\treturn newpopulation"
      ],
      "execution_count": 33,
      "outputs": []
    },
    {
      "cell_type": "code",
      "metadata": {
        "id": "KT1e96xACpiw",
        "colab_type": "code",
        "colab": {}
      },
      "source": [
        "def stop():\n",
        "\tglobals()\n",
        "\tprint(population[0], \" printing population[0]\")\n",
        "\tfitnessvals = [pos.fitness for pos in population]\n",
        "\tif STOP_CTR in fitnessvals:\n",
        "\t\treturn True\n",
        "\tif MAX_ITER == iteration:\n",
        "\t\treturn True\n",
        "\treturn False\n",
        "  "
      ],
      "execution_count": 34,
      "outputs": []
    },
    {
      "cell_type": "code",
      "metadata": {
        "id": "fwdJxUBFkXGx",
        "colab_type": "code",
        "colab": {
          "base_uri": "https://localhost:8080/",
          "height": 54
        },
        "outputId": "f7c07b82-5d02-4b73-bf46-c1eb69f6fa9d"
      },
      "source": [
        "population = generatePopulation(1000)\n",
        "\n",
        "print(\"POPULATION size : \", population)\n"
      ],
      "execution_count": 35,
      "outputs": [
        {
          "output_type": "stream",
          "text": [
            "POPULATION size :  [<__main__.BoardPosition object at 0x7fbbd94190b8>, <__main__.BoardPosition object at 0x7fbbd9419128>, <__main__.BoardPosition object at 0x7fbbd9419cf8>, <__main__.BoardPosition object at 0x7fbbd9419860>, <__main__.BoardPosition object at 0x7fbbd94194a8>, <__main__.BoardPosition object at 0x7fbbd9419390>, <__main__.BoardPosition object at 0x7fbbd94197b8>, <__main__.BoardPosition object at 0x7fbbd9419a58>, <__main__.BoardPosition object at 0x7fbbd9419ba8>, <__main__.BoardPosition object at 0x7fbbd9419940>, <__main__.BoardPosition object at 0x7fbbd9419048>, <__main__.BoardPosition object at 0x7fbbd9419240>, <__main__.BoardPosition object at 0x7fbbd9419278>, <__main__.BoardPosition object at 0x7fbbd9419588>, <__main__.BoardPosition object at 0x7fbbd9419ac8>, <__main__.BoardPosition object at 0x7fbbd93aa160>, <__main__.BoardPosition object at 0x7fbbd93aa1d0>, <__main__.BoardPosition object at 0x7fbbd93aa0b8>, <__main__.BoardPosition object at 0x7fbbd93aa0f0>, <__main__.BoardPosition object at 0x7fbbd93aa2b0>, <__main__.BoardPosition object at 0x7fbbd93aa4a8>, <__main__.BoardPosition object at 0x7fbbd93aa278>, <__main__.BoardPosition object at 0x7fbbd93aa358>, <__main__.BoardPosition object at 0x7fbbd93aa390>, <__main__.BoardPosition object at 0x7fbbd93aa470>, <__main__.BoardPosition object at 0x7fbbd93aa4e0>, <__main__.BoardPosition object at 0x7fbbd93aa438>, <__main__.BoardPosition object at 0x7fbbd93aa518>, <__main__.BoardPosition object at 0x7fbbd93aa048>, <__main__.BoardPosition object at 0x7fbbd93aa080>, <__main__.BoardPosition object at 0x7fbbd93aae48>, <__main__.BoardPosition object at 0x7fbbd93aa2e8>, <__main__.BoardPosition object at 0x7fbbd93aa400>, <__main__.BoardPosition object at 0x7fbbd93aa3c8>, <__main__.BoardPosition object at 0x7fbbd93aa240>, <__main__.BoardPosition object at 0x7fbbd93aa550>, <__main__.BoardPosition object at 0x7fbbd93aa6a0>, <__main__.BoardPosition object at 0x7fbbd93aa710>, <__main__.BoardPosition object at 0x7fbbd93aa828>, <__main__.BoardPosition object at 0x7fbbd93aa898>, <__main__.BoardPosition object at 0x7fbbd93aa780>, <__main__.BoardPosition object at 0x7fbbd93aa7b8>, <__main__.BoardPosition object at 0x7fbbd93aa7f0>, <__main__.BoardPosition object at 0x7fbbd93aa6d8>, <__main__.BoardPosition object at 0x7fbbd93aa748>, <__main__.BoardPosition object at 0x7fbbd93aa940>, <__main__.BoardPosition object at 0x7fbbd93aa9b0>, <__main__.BoardPosition object at 0x7fbbd93aaac8>, <__main__.BoardPosition object at 0x7fbbd93aaa20>, <__main__.BoardPosition object at 0x7fbbd93aaa90>, <__main__.BoardPosition object at 0x7fbbd93aab38>, <__main__.BoardPosition object at 0x7fbbd93aac18>, <__main__.BoardPosition object at 0x7fbbd93aaa58>, <__main__.BoardPosition object at 0x7fbbd93aab00>, <__main__.BoardPosition object at 0x7fbbd93aa978>, <__main__.BoardPosition object at 0x7fbbd93aa8d0>, <__main__.BoardPosition object at 0x7fbbd93aa860>, <__main__.BoardPosition object at 0x7fbbd93aa9e8>, <__main__.BoardPosition object at 0x7fbbd93aa908>, <__main__.BoardPosition object at 0x7fbbd93aa5f8>, <__main__.BoardPosition object at 0x7fbbd93aa668>, <__main__.BoardPosition object at 0x7fbbd93aa630>, <__main__.BoardPosition object at 0x7fbbd93aa5c0>, <__main__.BoardPosition object at 0x7fbbd93aac50>, <__main__.BoardPosition object at 0x7fbbd93aab70>, <__main__.BoardPosition object at 0x7fbbd93aa208>, <__main__.BoardPosition object at 0x7fbbd93aa128>, <__main__.BoardPosition object at 0x7fbbd93aa198>, <__main__.BoardPosition object at 0x7fbbd93aabe0>, <__main__.BoardPosition object at 0x7fbbd93aac88>, <__main__.BoardPosition object at 0x7fbbd93aacc0>, <__main__.BoardPosition object at 0x7fbbd93aa588>, <__main__.BoardPosition object at 0x7fbbd93aacf8>, <__main__.BoardPosition object at 0x7fbbd93aadd8>, <__main__.BoardPosition object at 0x7fbbd93aaf28>, <__main__.BoardPosition object at 0x7fbbd93aaf60>, <__main__.BoardPosition object at 0x7fbbd93aaf98>, <__main__.BoardPosition object at 0x7fbbd93aad68>, <__main__.BoardPosition object at 0x7fbbd93aae80>, <__main__.BoardPosition object at 0x7fbbd93aaef0>, <__main__.BoardPosition object at 0x7fbbd93aafd0>, <__main__.BoardPosition object at 0x7fbbd93aaba8>, <__main__.BoardPosition object at 0x7fbbd93aae10>, <__main__.BoardPosition object at 0x7fbbd93aaeb8>, <__main__.BoardPosition object at 0x7fbbd9423198>, <__main__.BoardPosition object at 0x7fbbd9423048>, <__main__.BoardPosition object at 0x7fbbd9423080>, <__main__.BoardPosition object at 0x7fbbd94230b8>, <__main__.BoardPosition object at 0x7fbbd94230f0>, <__main__.BoardPosition object at 0x7fbbd94231d0>, <__main__.BoardPosition object at 0x7fbbd9423160>, <__main__.BoardPosition object at 0x7fbbd9423278>, <__main__.BoardPosition object at 0x7fbbd94232e8>, <__main__.BoardPosition object at 0x7fbbd9423320>, <__main__.BoardPosition object at 0x7fbbd9423358>, <__main__.BoardPosition object at 0x7fbbd9423390>, <__main__.BoardPosition object at 0x7fbbd94233c8>, <__main__.BoardPosition object at 0x7fbbd9423400>, <__main__.BoardPosition object at 0x7fbbd9423438>, <__main__.BoardPosition object at 0x7fbbd9423470>, <__main__.BoardPosition object at 0x7fbbd94234a8>, <__main__.BoardPosition object at 0x7fbbd94234e0>, <__main__.BoardPosition object at 0x7fbbd9423518>, <__main__.BoardPosition object at 0x7fbbd9423550>, <__main__.BoardPosition object at 0x7fbbd9423588>, <__main__.BoardPosition object at 0x7fbbd94235c0>, <__main__.BoardPosition object at 0x7fbbd94235f8>, <__main__.BoardPosition object at 0x7fbbd9423630>, <__main__.BoardPosition object at 0x7fbbd9423668>, <__main__.BoardPosition object at 0x7fbbd94236a0>, <__main__.BoardPosition object at 0x7fbbd94236d8>, <__main__.BoardPosition object at 0x7fbbd9423710>, <__main__.BoardPosition object at 0x7fbbd9423748>, <__main__.BoardPosition object at 0x7fbbd9423780>, <__main__.BoardPosition object at 0x7fbbd94237b8>, <__main__.BoardPosition object at 0x7fbbd9419978>, <__main__.BoardPosition object at 0x7fbbd9419e48>, <__main__.BoardPosition object at 0x7fbbd9419a90>, <__main__.BoardPosition object at 0x7fbbd9419208>, <__main__.BoardPosition object at 0x7fbbd9419160>, <__main__.BoardPosition object at 0x7fbbd94196a0>, <__main__.BoardPosition object at 0x7fbbd9419320>, <__main__.BoardPosition object at 0x7fbbd9419668>, <__main__.BoardPosition object at 0x7fbbd94195c0>, <__main__.BoardPosition object at 0x7fbbd9419748>, <__main__.BoardPosition object at 0x7fbbd9419cc0>, <__main__.BoardPosition object at 0x7fbbd9419c50>, <__main__.BoardPosition object at 0x7fbbd94191d0>, <__main__.BoardPosition object at 0x7fbbd9419da0>, <__main__.BoardPosition object at 0x7fbbd9419f98>, <__main__.BoardPosition object at 0x7fbbd9419a20>, <__main__.BoardPosition object at 0x7fbbd9419550>, <__main__.BoardPosition object at 0x7fbbd9419d30>, <__main__.BoardPosition object at 0x7fbbd9419c88>, <__main__.BoardPosition object at 0x7fbbd94192e8>, <__main__.BoardPosition object at 0x7fbbd9419358>, <__main__.BoardPosition object at 0x7fbbd9419780>, <__main__.BoardPosition object at 0x7fbbd9419908>, <__main__.BoardPosition object at 0x7fbbd9399c18>, <__main__.BoardPosition object at 0x7fbbd93999e8>, <__main__.BoardPosition object at 0x7fbbd9399d30>, <__main__.BoardPosition object at 0x7fbbd9399c88>, <__main__.BoardPosition object at 0x7fbbd9399c50>, <__main__.BoardPosition object at 0x7fbbd9399f98>, <__main__.BoardPosition object at 0x7fbbd9399ba8>, <__main__.BoardPosition object at 0x7fbbd9399e10>, <__main__.BoardPosition object at 0x7fbbd9399ac8>, <__main__.BoardPosition object at 0x7fbbd9399f28>, <__main__.BoardPosition object at 0x7fbbd9399e48>, <__main__.BoardPosition object at 0x7fbbd9399a90>, <__main__.BoardPosition object at 0x7fbbd9399b38>, <__main__.BoardPosition object at 0x7fbbd9399cf8>, <__main__.BoardPosition object at 0x7fbbd9399a20>, <__main__.BoardPosition object at 0x7fbbd9399eb8>, <__main__.BoardPosition object at 0x7fbbd9399b70>, <__main__.BoardPosition object at 0x7fbbd9399b00>, <__main__.BoardPosition object at 0x7fbbd9399a58>, <__main__.BoardPosition object at 0x7fbbd9399978>, <__main__.BoardPosition object at 0x7fbbd9399d68>, <__main__.BoardPosition object at 0x7fbbd940da90>, <__main__.BoardPosition object at 0x7fbbd940da20>, <__main__.BoardPosition object at 0x7fbbd940d3c8>, <__main__.BoardPosition object at 0x7fbbd940d748>, <__main__.BoardPosition object at 0x7fbbd940d898>, <__main__.BoardPosition object at 0x7fbbd940dd68>, <__main__.BoardPosition object at 0x7fbbd940d828>, <__main__.BoardPosition object at 0x7fbbd940dfd0>, <__main__.BoardPosition object at 0x7fbbd940cf28>, <__main__.BoardPosition object at 0x7fbbd940cda0>, <__main__.BoardPosition object at 0x7fbbd940cac8>, <__main__.BoardPosition object at 0x7fbbd940c0f0>, <__main__.BoardPosition object at 0x7fbbd940c860>, <__main__.BoardPosition object at 0x7fbbd940c2b0>, <__main__.BoardPosition object at 0x7fbbd940ce80>, <__main__.BoardPosition object at 0x7fbbd940c940>, <__main__.BoardPosition object at 0x7fbbd940c978>, <__main__.BoardPosition object at 0x7fbbd940ce48>, <__main__.BoardPosition object at 0x7fbbd940cf98>, <__main__.BoardPosition object at 0x7fbbd940c9e8>, <__main__.BoardPosition object at 0x7fbbd940ccc0>, <__main__.BoardPosition object at 0x7fbbd940ce10>, <__main__.BoardPosition object at 0x7fbbd940c240>, <__main__.BoardPosition object at 0x7fbbd940c5f8>, <__main__.BoardPosition object at 0x7fbbd940cef0>, <__main__.BoardPosition object at 0x7fbbd940c908>, <__main__.BoardPosition object at 0x7fbbd940c518>, <__main__.BoardPosition object at 0x7fbbd940cdd8>, <__main__.BoardPosition object at 0x7fbbd940ceb8>, <__main__.BoardPosition object at 0x7fbbd940c3c8>, <__main__.BoardPosition object at 0x7fbbd940c828>, <__main__.BoardPosition object at 0x7fbbd940c5c0>, <__main__.BoardPosition object at 0x7fbbd940c4e0>, <__main__.BoardPosition object at 0x7fbbd940cd30>, <__main__.BoardPosition object at 0x7fbbd940c630>, <__main__.BoardPosition object at 0x7fbbd940c7b8>, <__main__.BoardPosition object at 0x7fbbd940cbe0>, <__main__.BoardPosition object at 0x7fbbd940c358>, <__main__.BoardPosition object at 0x7fbbd940cb00>, <__main__.BoardPosition object at 0x7fbbd940c710>, <__main__.BoardPosition object at 0x7fbbd940ca20>, <__main__.BoardPosition object at 0x7fbbd940c668>, <__main__.BoardPosition object at 0x7fbbd940ca90>, <__main__.BoardPosition object at 0x7fbbd940cb70>, <__main__.BoardPosition object at 0x7fbbd940c2e8>, <__main__.BoardPosition object at 0x7fbbd940c8d0>, <__main__.BoardPosition object at 0x7fbbd940c780>, <__main__.BoardPosition object at 0x7fbbd940c320>, <__main__.BoardPosition object at 0x7fbbd940ccf8>, <__main__.BoardPosition object at 0x7fbbd940c6a0>, <__main__.BoardPosition object at 0x7fbbd940cc18>, <__main__.BoardPosition object at 0x7fbbd940c898>, <__main__.BoardPosition object at 0x7fbbd940ca58>, <__main__.BoardPosition object at 0x7fbbd940c278>, <__main__.BoardPosition object at 0x7fbbd940c7f0>, <__main__.BoardPosition object at 0x7fbbd940c6d8>, <__main__.BoardPosition object at 0x7fbbd940c748>, <__main__.BoardPosition object at 0x7fbbd940cb38>, <__main__.BoardPosition object at 0x7fbbd940cc88>, <__main__.BoardPosition object at 0x7fbbd93e09e8>, <__main__.BoardPosition object at 0x7fbbd93e06d8>, <__main__.BoardPosition object at 0x7fbbd93e0b38>, <__main__.BoardPosition object at 0x7fbbd93e06a0>, <__main__.BoardPosition object at 0x7fbbd93e0908>, <__main__.BoardPosition object at 0x7fbbd93e0940>, <__main__.BoardPosition object at 0x7fbbd93e0160>, <__main__.BoardPosition object at 0x7fbbd93e0860>, <__main__.BoardPosition object at 0x7fbbd93e01d0>, <__main__.BoardPosition object at 0x7fbbd93e0a58>, <__main__.BoardPosition object at 0x7fbbd93e0668>, <__main__.BoardPosition object at 0x7fbbd93e0710>, <__main__.BoardPosition object at 0x7fbbd93e07b8>, <__main__.BoardPosition object at 0x7fbbd93e05f8>, <__main__.BoardPosition object at 0x7fbbd93e08d0>, <__main__.BoardPosition object at 0x7fbbd93e0a20>, <__main__.BoardPosition object at 0x7fbbd93e0828>, <__main__.BoardPosition object at 0x7fbbd93e0898>, <__main__.BoardPosition object at 0x7fbbd93e0978>, <__main__.BoardPosition object at 0x7fbbd93e0128>, <__main__.BoardPosition object at 0x7fbbd93e0630>, <__main__.BoardPosition object at 0x7fbbd93e05c0>, <__main__.BoardPosition object at 0x7fbbd93e09b0>, <__main__.BoardPosition object at 0x7fbbd93e07f0>, <__main__.BoardPosition object at 0x7fbbd93ae160>, <__main__.BoardPosition object at 0x7fbbd93f3860>, <__main__.BoardPosition object at 0x7fbbd93f37f0>, <__main__.BoardPosition object at 0x7fbbd93f3278>, <__main__.BoardPosition object at 0x7fbbd93f3358>, <__main__.BoardPosition object at 0x7fbbd93f3320>, <__main__.BoardPosition object at 0x7fbbd93f34a8>, <__main__.BoardPosition object at 0x7fbbd93f33c8>, <__main__.BoardPosition object at 0x7fbbd93f3198>, <__main__.BoardPosition object at 0x7fbbd93f35f8>, <__main__.BoardPosition object at 0x7fbbd93f36d8>, <__main__.BoardPosition object at 0x7fbbd93f35c0>, <__main__.BoardPosition object at 0x7fbbd93f3438>, <__main__.BoardPosition object at 0x7fbbd93f3048>, <__main__.BoardPosition object at 0x7fbbd93f3c88>, <__main__.BoardPosition object at 0x7fbbd93f3ba8>, <__main__.BoardPosition object at 0x7fbbd93f3160>, <__main__.BoardPosition object at 0x7fbbd93f3898>, <__main__.BoardPosition object at 0x7fbbd93f3208>, <__main__.BoardPosition object at 0x7fbbd93f30f0>, <__main__.BoardPosition object at 0x7fbbd93f3470>, <__main__.BoardPosition object at 0x7fbbd93f37b8>, <__main__.BoardPosition object at 0x7fbbd93f3128>, <__main__.BoardPosition object at 0x7fbbd93f3828>, <__main__.BoardPosition object at 0x7fbbd93f3710>, <__main__.BoardPosition object at 0x7fbbd93f3518>, <__main__.BoardPosition object at 0x7fbbd93f3748>, <__main__.BoardPosition object at 0x7fbbd93f3550>, <__main__.BoardPosition object at 0x7fbbd93f32b0>, <__main__.BoardPosition object at 0x7fbbd93f34e0>, <__main__.BoardPosition object at 0x7fbbd93f30b8>, <__main__.BoardPosition object at 0x7fbbd93f3240>, <__main__.BoardPosition object at 0x7fbbd93f3630>, <__main__.BoardPosition object at 0x7fbbd93f3668>, <__main__.BoardPosition object at 0x7fbbd93f36a0>, <__main__.BoardPosition object at 0x7fbbd93f3588>, <__main__.BoardPosition object at 0x7fbbd94237f0>, <__main__.BoardPosition object at 0x7fbbd9423828>, <__main__.BoardPosition object at 0x7fbbd9423860>, <__main__.BoardPosition object at 0x7fbbd9423898>, <__main__.BoardPosition object at 0x7fbbd94238d0>, <__main__.BoardPosition object at 0x7fbbd9423908>, <__main__.BoardPosition object at 0x7fbbd9423940>, <__main__.BoardPosition object at 0x7fbbd9423978>, <__main__.BoardPosition object at 0x7fbbd94239b0>, <__main__.BoardPosition object at 0x7fbbd94239e8>, <__main__.BoardPosition object at 0x7fbbd9423a20>, <__main__.BoardPosition object at 0x7fbbd9423a58>, <__main__.BoardPosition object at 0x7fbbd9423a90>, <__main__.BoardPosition object at 0x7fbbd9423ac8>, <__main__.BoardPosition object at 0x7fbbd9423b00>, <__main__.BoardPosition object at 0x7fbbd9423b38>, <__main__.BoardPosition object at 0x7fbbd9423b70>, <__main__.BoardPosition object at 0x7fbbd9423ba8>, <__main__.BoardPosition object at 0x7fbbd9423be0>, <__main__.BoardPosition object at 0x7fbbd9423c18>, <__main__.BoardPosition object at 0x7fbbd9423c50>, <__main__.BoardPosition object at 0x7fbbd9423c88>, <__main__.BoardPosition object at 0x7fbbd9423cc0>, <__main__.BoardPosition object at 0x7fbbd9423cf8>, <__main__.BoardPosition object at 0x7fbbd9423d30>, <__main__.BoardPosition object at 0x7fbbd9423d68>, <__main__.BoardPosition object at 0x7fbbd9423da0>, <__main__.BoardPosition object at 0x7fbbd9423dd8>, <__main__.BoardPosition object at 0x7fbbd9423e10>, <__main__.BoardPosition object at 0x7fbbd9423e48>, <__main__.BoardPosition object at 0x7fbbd9423e80>, <__main__.BoardPosition object at 0x7fbbd9423eb8>, <__main__.BoardPosition object at 0x7fbbd9423ef0>, <__main__.BoardPosition object at 0x7fbbd9423f28>, <__main__.BoardPosition object at 0x7fbbd9423f60>, <__main__.BoardPosition object at 0x7fbbd9423f98>, <__main__.BoardPosition object at 0x7fbbd9423fd0>, <__main__.BoardPosition object at 0x7fbbd9401c18>, <__main__.BoardPosition object at 0x7fbbd9401048>, <__main__.BoardPosition object at 0x7fbbd9401080>, <__main__.BoardPosition object at 0x7fbbd94010b8>, <__main__.BoardPosition object at 0x7fbbd94010f0>, <__main__.BoardPosition object at 0x7fbbd9401128>, <__main__.BoardPosition object at 0x7fbbd9401160>, <__main__.BoardPosition object at 0x7fbbd9401198>, <__main__.BoardPosition object at 0x7fbbd94011d0>, <__main__.BoardPosition object at 0x7fbbd9401208>, <__main__.BoardPosition object at 0x7fbbd9401240>, <__main__.BoardPosition object at 0x7fbbd9401278>, <__main__.BoardPosition object at 0x7fbbd94012b0>, <__main__.BoardPosition object at 0x7fbbd94012e8>, <__main__.BoardPosition object at 0x7fbbd9401320>, <__main__.BoardPosition object at 0x7fbbd9401358>, <__main__.BoardPosition object at 0x7fbbd9401390>, <__main__.BoardPosition object at 0x7fbbd94013c8>, <__main__.BoardPosition object at 0x7fbbd9401400>, <__main__.BoardPosition object at 0x7fbbd9401438>, <__main__.BoardPosition object at 0x7fbbd9401470>, <__main__.BoardPosition object at 0x7fbbd94014a8>, <__main__.BoardPosition object at 0x7fbbd94014e0>, <__main__.BoardPosition object at 0x7fbbd9401518>, <__main__.BoardPosition object at 0x7fbbd9401550>, <__main__.BoardPosition object at 0x7fbbd9401588>, <__main__.BoardPosition object at 0x7fbbd94015c0>, <__main__.BoardPosition object at 0x7fbbd94015f8>, <__main__.BoardPosition object at 0x7fbbd9401630>, <__main__.BoardPosition object at 0x7fbbd9401668>, <__main__.BoardPosition object at 0x7fbbd94016a0>, <__main__.BoardPosition object at 0x7fbbd94016d8>, <__main__.BoardPosition object at 0x7fbbd9401710>, <__main__.BoardPosition object at 0x7fbbd9401748>, <__main__.BoardPosition object at 0x7fbbd9401780>, <__main__.BoardPosition object at 0x7fbbd94017b8>, <__main__.BoardPosition object at 0x7fbbd94017f0>, <__main__.BoardPosition object at 0x7fbbd9401828>, <__main__.BoardPosition object at 0x7fbbd9401860>, <__main__.BoardPosition object at 0x7fbbd9401898>, <__main__.BoardPosition object at 0x7fbbd94018d0>, <__main__.BoardPosition object at 0x7fbbd9401908>, <__main__.BoardPosition object at 0x7fbbd9401940>, <__main__.BoardPosition object at 0x7fbbd9401978>, <__main__.BoardPosition object at 0x7fbbd94019b0>, <__main__.BoardPosition object at 0x7fbbd94019e8>, <__main__.BoardPosition object at 0x7fbbd9401a20>, <__main__.BoardPosition object at 0x7fbbd9401a58>, <__main__.BoardPosition object at 0x7fbbd9401a90>, <__main__.BoardPosition object at 0x7fbbd9401ac8>, <__main__.BoardPosition object at 0x7fbbd9401b00>, <__main__.BoardPosition object at 0x7fbbd9401b38>, <__main__.BoardPosition object at 0x7fbbd9401b70>, <__main__.BoardPosition object at 0x7fbbd9401ba8>, <__main__.BoardPosition object at 0x7fbbd9401be0>, <__main__.BoardPosition object at 0x7fbbd93862b0>, <__main__.BoardPosition object at 0x7fbbd9386240>, <__main__.BoardPosition object at 0x7fbbd93869e8>, <__main__.BoardPosition object at 0x7fbbd9386860>, <__main__.BoardPosition object at 0x7fbbd9386c50>, <__main__.BoardPosition object at 0x7fbbd9386390>, <__main__.BoardPosition object at 0x7fbbd93869b0>, <__main__.BoardPosition object at 0x7fbbd93860b8>, <__main__.BoardPosition object at 0x7fbbd93867f0>, <__main__.BoardPosition object at 0x7fbbd93867b8>, <__main__.BoardPosition object at 0x7fbbd93865f8>, <__main__.BoardPosition object at 0x7fbbd9386588>, <__main__.BoardPosition object at 0x7fbbd9386b70>, <__main__.BoardPosition object at 0x7fbbd9386a20>, <__main__.BoardPosition object at 0x7fbbd9386be0>, <__main__.BoardPosition object at 0x7fbbd9386278>, <__main__.BoardPosition object at 0x7fbbd9386630>, <__main__.BoardPosition object at 0x7fbbd9386e10>, <__main__.BoardPosition object at 0x7fbbd9386550>, <__main__.BoardPosition object at 0x7fbbd9386358>, <__main__.BoardPosition object at 0x7fbbd9386470>, <__main__.BoardPosition object at 0x7fbbd9386940>, <__main__.BoardPosition object at 0x7fbbd93863c8>, <__main__.BoardPosition object at 0x7fbbd9386828>, <__main__.BoardPosition object at 0x7fbbd9386a90>, <__main__.BoardPosition object at 0x7fbbd9386d68>, <__main__.BoardPosition object at 0x7fbbd9386c88>, <__main__.BoardPosition object at 0x7fbbd93868d0>, <__main__.BoardPosition object at 0x7fbbd9386f60>, <__main__.BoardPosition object at 0x7fbbd9386f98>, <__main__.BoardPosition object at 0x7fbbd9386fd0>, <__main__.BoardPosition object at 0x7fbbd9386ef0>, <__main__.BoardPosition object at 0x7fbbd9386e80>, <__main__.BoardPosition object at 0x7fbbd9386eb8>, <__main__.BoardPosition object at 0x7fbbd9386908>, <__main__.BoardPosition object at 0x7fbbd938a438>, <__main__.BoardPosition object at 0x7fbbd938a470>, <__main__.BoardPosition object at 0x7fbbd938a4a8>, <__main__.BoardPosition object at 0x7fbbd938a4e0>, <__main__.BoardPosition object at 0x7fbbd938a518>, <__main__.BoardPosition object at 0x7fbbd938a550>, <__main__.BoardPosition object at 0x7fbbd938a588>, <__main__.BoardPosition object at 0x7fbbd938a5c0>, <__main__.BoardPosition object at 0x7fbbd938a5f8>, <__main__.BoardPosition object at 0x7fbbd938a630>, <__main__.BoardPosition object at 0x7fbbd938a668>, <__main__.BoardPosition object at 0x7fbbd938a6a0>, <__main__.BoardPosition object at 0x7fbbd938a6d8>, <__main__.BoardPosition object at 0x7fbbd938a710>, <__main__.BoardPosition object at 0x7fbbd938a748>, <__main__.BoardPosition object at 0x7fbbd938a780>, <__main__.BoardPosition object at 0x7fbbd938a7b8>, <__main__.BoardPosition object at 0x7fbbd938a7f0>, <__main__.BoardPosition object at 0x7fbbd938a828>, <__main__.BoardPosition object at 0x7fbbd938a860>, <__main__.BoardPosition object at 0x7fbbd938a898>, <__main__.BoardPosition object at 0x7fbbd938a8d0>, <__main__.BoardPosition object at 0x7fbbd938a908>, <__main__.BoardPosition object at 0x7fbbd938a940>, <__main__.BoardPosition object at 0x7fbbd938a978>, <__main__.BoardPosition object at 0x7fbbd938a9b0>, <__main__.BoardPosition object at 0x7fbbd938a9e8>, <__main__.BoardPosition object at 0x7fbbd938aa20>, <__main__.BoardPosition object at 0x7fbbd938aa58>, <__main__.BoardPosition object at 0x7fbbd938aa90>, <__main__.BoardPosition object at 0x7fbbd938aac8>, <__main__.BoardPosition object at 0x7fbbd938ab00>, <__main__.BoardPosition object at 0x7fbbd938ab38>, <__main__.BoardPosition object at 0x7fbbd938ab70>, <__main__.BoardPosition object at 0x7fbbd938aba8>, <__main__.BoardPosition object at 0x7fbbd938abe0>, <__main__.BoardPosition object at 0x7fbbd938ac18>, <__main__.BoardPosition object at 0x7fbbd938ac50>, <__main__.BoardPosition object at 0x7fbbd938ac88>, <__main__.BoardPosition object at 0x7fbbd938acc0>, <__main__.BoardPosition object at 0x7fbbd938acf8>, <__main__.BoardPosition object at 0x7fbbd938ad30>, <__main__.BoardPosition object at 0x7fbbd938ad68>, <__main__.BoardPosition object at 0x7fbbd938ada0>, <__main__.BoardPosition object at 0x7fbbd938add8>, <__main__.BoardPosition object at 0x7fbbd938ae10>, <__main__.BoardPosition object at 0x7fbbd938ae48>, <__main__.BoardPosition object at 0x7fbbd938ae80>, <__main__.BoardPosition object at 0x7fbbd938aeb8>, <__main__.BoardPosition object at 0x7fbbd938aef0>, <__main__.BoardPosition object at 0x7fbbd938af28>, <__main__.BoardPosition object at 0x7fbbd938af60>, <__main__.BoardPosition object at 0x7fbbd938af98>, <__main__.BoardPosition object at 0x7fbbd938afd0>, <__main__.BoardPosition object at 0x7fbbd937e048>, <__main__.BoardPosition object at 0x7fbbd937e080>, <__main__.BoardPosition object at 0x7fbbd937e0b8>, <__main__.BoardPosition object at 0x7fbbd937e0f0>, <__main__.BoardPosition object at 0x7fbbd937e128>, <__main__.BoardPosition object at 0x7fbbd937e160>, <__main__.BoardPosition object at 0x7fbbd937e198>, <__main__.BoardPosition object at 0x7fbbd937e1d0>, <__main__.BoardPosition object at 0x7fbbd937e208>, <__main__.BoardPosition object at 0x7fbbd937e240>, <__main__.BoardPosition object at 0x7fbbd937e278>, <__main__.BoardPosition object at 0x7fbbd937e2b0>, <__main__.BoardPosition object at 0x7fbbd937e2e8>, <__main__.BoardPosition object at 0x7fbbd937e320>, <__main__.BoardPosition object at 0x7fbbd937e358>, <__main__.BoardPosition object at 0x7fbbd937e390>, <__main__.BoardPosition object at 0x7fbbd937e3c8>, <__main__.BoardPosition object at 0x7fbbd937e400>, <__main__.BoardPosition object at 0x7fbbd937e438>, <__main__.BoardPosition object at 0x7fbbd937e470>, <__main__.BoardPosition object at 0x7fbbd937e4a8>, <__main__.BoardPosition object at 0x7fbbd937e4e0>, <__main__.BoardPosition object at 0x7fbbd937e518>, <__main__.BoardPosition object at 0x7fbbd937e550>, <__main__.BoardPosition object at 0x7fbbd937e588>, <__main__.BoardPosition object at 0x7fbbd937e5c0>, <__main__.BoardPosition object at 0x7fbbd937e5f8>, <__main__.BoardPosition object at 0x7fbbd937e630>, <__main__.BoardPosition object at 0x7fbbd937e668>, <__main__.BoardPosition object at 0x7fbbd937e6a0>, <__main__.BoardPosition object at 0x7fbbd937e6d8>, <__main__.BoardPosition object at 0x7fbbd937e710>, <__main__.BoardPosition object at 0x7fbbd937e748>, <__main__.BoardPosition object at 0x7fbbd937e780>, <__main__.BoardPosition object at 0x7fbbd937e7b8>, <__main__.BoardPosition object at 0x7fbbd937e7f0>, <__main__.BoardPosition object at 0x7fbbd937e828>, <__main__.BoardPosition object at 0x7fbbd937e860>, <__main__.BoardPosition object at 0x7fbbd937e898>, <__main__.BoardPosition object at 0x7fbbd937e8d0>, <__main__.BoardPosition object at 0x7fbbd937e908>, <__main__.BoardPosition object at 0x7fbbd937e940>, <__main__.BoardPosition object at 0x7fbbd937e978>, <__main__.BoardPosition object at 0x7fbbd937e9b0>, <__main__.BoardPosition object at 0x7fbbd937e9e8>, <__main__.BoardPosition object at 0x7fbbd937ea20>, <__main__.BoardPosition object at 0x7fbbd937ea58>, <__main__.BoardPosition object at 0x7fbbd937ea90>, <__main__.BoardPosition object at 0x7fbbd937eac8>, <__main__.BoardPosition object at 0x7fbbd937eb00>, <__main__.BoardPosition object at 0x7fbbd937eb38>, <__main__.BoardPosition object at 0x7fbbd937eb70>, <__main__.BoardPosition object at 0x7fbbd937eba8>, <__main__.BoardPosition object at 0x7fbbd937ebe0>, <__main__.BoardPosition object at 0x7fbbd937ec18>, <__main__.BoardPosition object at 0x7fbbd937ec50>, <__main__.BoardPosition object at 0x7fbbd937ec88>, <__main__.BoardPosition object at 0x7fbbd937ecc0>, <__main__.BoardPosition object at 0x7fbbd937ecf8>, <__main__.BoardPosition object at 0x7fbbd937ed30>, <__main__.BoardPosition object at 0x7fbbd937ed68>, <__main__.BoardPosition object at 0x7fbbd937eda0>, <__main__.BoardPosition object at 0x7fbbd937edd8>, <__main__.BoardPosition object at 0x7fbbd937ee10>, <__main__.BoardPosition object at 0x7fbbd937ee48>, <__main__.BoardPosition object at 0x7fbbd937ee80>, <__main__.BoardPosition object at 0x7fbbd937eeb8>, <__main__.BoardPosition object at 0x7fbbd937eef0>, <__main__.BoardPosition object at 0x7fbbd937ef28>, <__main__.BoardPosition object at 0x7fbbd937ef60>, <__main__.BoardPosition object at 0x7fbbd937ef98>, <__main__.BoardPosition object at 0x7fbbd937efd0>, <__main__.BoardPosition object at 0x7fbbd9410048>, <__main__.BoardPosition object at 0x7fbbd9410080>, <__main__.BoardPosition object at 0x7fbbd94100b8>, <__main__.BoardPosition object at 0x7fbbd94100f0>, <__main__.BoardPosition object at 0x7fbbd9410128>, <__main__.BoardPosition object at 0x7fbbd9410160>, <__main__.BoardPosition object at 0x7fbbd9410198>, <__main__.BoardPosition object at 0x7fbbd94101d0>, <__main__.BoardPosition object at 0x7fbbd9410208>, <__main__.BoardPosition object at 0x7fbbd9410240>, <__main__.BoardPosition object at 0x7fbbd9410278>, <__main__.BoardPosition object at 0x7fbbd94102b0>, <__main__.BoardPosition object at 0x7fbbd94102e8>, <__main__.BoardPosition object at 0x7fbbd9410320>, <__main__.BoardPosition object at 0x7fbbd9410358>, <__main__.BoardPosition object at 0x7fbbd9410390>, <__main__.BoardPosition object at 0x7fbbd94103c8>, <__main__.BoardPosition object at 0x7fbbd9410400>, <__main__.BoardPosition object at 0x7fbbd9410438>, <__main__.BoardPosition object at 0x7fbbd9410470>, <__main__.BoardPosition object at 0x7fbbd94104a8>, <__main__.BoardPosition object at 0x7fbbd94104e0>, <__main__.BoardPosition object at 0x7fbbd9410518>, <__main__.BoardPosition object at 0x7fbbd9410550>, <__main__.BoardPosition object at 0x7fbbd9410588>, <__main__.BoardPosition object at 0x7fbbd94105c0>, <__main__.BoardPosition object at 0x7fbbd94105f8>, <__main__.BoardPosition object at 0x7fbbd9410630>, <__main__.BoardPosition object at 0x7fbbd9410668>, <__main__.BoardPosition object at 0x7fbbd94106a0>, <__main__.BoardPosition object at 0x7fbbd94106d8>, <__main__.BoardPosition object at 0x7fbbd9410710>, <__main__.BoardPosition object at 0x7fbbd9410748>, <__main__.BoardPosition object at 0x7fbbd9410780>, <__main__.BoardPosition object at 0x7fbbd94107b8>, <__main__.BoardPosition object at 0x7fbbd94107f0>, <__main__.BoardPosition object at 0x7fbbd9410828>, <__main__.BoardPosition object at 0x7fbbd9410860>, <__main__.BoardPosition object at 0x7fbbd9410898>, <__main__.BoardPosition object at 0x7fbbd94108d0>, <__main__.BoardPosition object at 0x7fbbd9410908>, <__main__.BoardPosition object at 0x7fbbd9410940>, <__main__.BoardPosition object at 0x7fbbd9410978>, <__main__.BoardPosition object at 0x7fbbd94109b0>, <__main__.BoardPosition object at 0x7fbbd94109e8>, <__main__.BoardPosition object at 0x7fbbd9410a20>, <__main__.BoardPosition object at 0x7fbbd9410a58>, <__main__.BoardPosition object at 0x7fbbd9410a90>, <__main__.BoardPosition object at 0x7fbbd9410ac8>, <__main__.BoardPosition object at 0x7fbbd9410b00>, <__main__.BoardPosition object at 0x7fbbd9410b38>, <__main__.BoardPosition object at 0x7fbbd9410b70>, <__main__.BoardPosition object at 0x7fbbd9410ba8>, <__main__.BoardPosition object at 0x7fbbd9410be0>, <__main__.BoardPosition object at 0x7fbbd9410c18>, <__main__.BoardPosition object at 0x7fbbd9410c50>, <__main__.BoardPosition object at 0x7fbbd9410c88>, <__main__.BoardPosition object at 0x7fbbd9410cc0>, <__main__.BoardPosition object at 0x7fbbd9410cf8>, <__main__.BoardPosition object at 0x7fbbd9410d30>, <__main__.BoardPosition object at 0x7fbbd9410d68>, <__main__.BoardPosition object at 0x7fbbd9410da0>, <__main__.BoardPosition object at 0x7fbbd9410dd8>, <__main__.BoardPosition object at 0x7fbbd9410e10>, <__main__.BoardPosition object at 0x7fbbd9410e48>, <__main__.BoardPosition object at 0x7fbbd9410e80>, <__main__.BoardPosition object at 0x7fbbd9410eb8>, <__main__.BoardPosition object at 0x7fbbd9410ef0>, <__main__.BoardPosition object at 0x7fbbd9410f28>, <__main__.BoardPosition object at 0x7fbbd9410f60>, <__main__.BoardPosition object at 0x7fbbd9410f98>, <__main__.BoardPosition object at 0x7fbbd9410fd0>, <__main__.BoardPosition object at 0x7fbbd93ef048>, <__main__.BoardPosition object at 0x7fbbd93ef080>, <__main__.BoardPosition object at 0x7fbbd93ef0b8>, <__main__.BoardPosition object at 0x7fbbd93ef0f0>, <__main__.BoardPosition object at 0x7fbbd93ef128>, <__main__.BoardPosition object at 0x7fbbd93ef160>, <__main__.BoardPosition object at 0x7fbbd93ef198>, <__main__.BoardPosition object at 0x7fbbd93ef1d0>, <__main__.BoardPosition object at 0x7fbbd93ef208>, <__main__.BoardPosition object at 0x7fbbd93ef240>, <__main__.BoardPosition object at 0x7fbbd93ef278>, <__main__.BoardPosition object at 0x7fbbd93ef2b0>, <__main__.BoardPosition object at 0x7fbbd93ef2e8>, <__main__.BoardPosition object at 0x7fbbd93ef320>, <__main__.BoardPosition object at 0x7fbbd93ef358>, <__main__.BoardPosition object at 0x7fbbd93ef390>, <__main__.BoardPosition object at 0x7fbbd93ef3c8>, <__main__.BoardPosition object at 0x7fbbd93ef400>, <__main__.BoardPosition object at 0x7fbbd93ef438>, <__main__.BoardPosition object at 0x7fbbd93ef470>, <__main__.BoardPosition object at 0x7fbbd93ef4a8>, <__main__.BoardPosition object at 0x7fbbd93ef4e0>, <__main__.BoardPosition object at 0x7fbbd93ef518>, <__main__.BoardPosition object at 0x7fbbd93ef550>, <__main__.BoardPosition object at 0x7fbbd93ef588>, <__main__.BoardPosition object at 0x7fbbd93ef5c0>, <__main__.BoardPosition object at 0x7fbbd93ef5f8>, <__main__.BoardPosition object at 0x7fbbd93ef630>, <__main__.BoardPosition object at 0x7fbbd93ef668>, <__main__.BoardPosition object at 0x7fbbd93ef6a0>, <__main__.BoardPosition object at 0x7fbbd93ef6d8>, <__main__.BoardPosition object at 0x7fbbd93ef710>, <__main__.BoardPosition object at 0x7fbbd93ef748>, <__main__.BoardPosition object at 0x7fbbd93ef780>, <__main__.BoardPosition object at 0x7fbbd93ef7b8>, <__main__.BoardPosition object at 0x7fbbd93ef7f0>, <__main__.BoardPosition object at 0x7fbbd93ef828>, <__main__.BoardPosition object at 0x7fbbd93ef860>, <__main__.BoardPosition object at 0x7fbbd93ef898>, <__main__.BoardPosition object at 0x7fbbd93ef8d0>, <__main__.BoardPosition object at 0x7fbbd93ef908>, <__main__.BoardPosition object at 0x7fbbd93ef940>, <__main__.BoardPosition object at 0x7fbbd93ef978>, <__main__.BoardPosition object at 0x7fbbd93ef9b0>, <__main__.BoardPosition object at 0x7fbbd93ef9e8>, <__main__.BoardPosition object at 0x7fbbd93efa20>, <__main__.BoardPosition object at 0x7fbbd93efa58>, <__main__.BoardPosition object at 0x7fbbd93efa90>, <__main__.BoardPosition object at 0x7fbbd93efac8>, <__main__.BoardPosition object at 0x7fbbd93efb00>, <__main__.BoardPosition object at 0x7fbbd93efb38>, <__main__.BoardPosition object at 0x7fbbd93efb70>, <__main__.BoardPosition object at 0x7fbbd93efba8>, <__main__.BoardPosition object at 0x7fbbd93efbe0>, <__main__.BoardPosition object at 0x7fbbd93efc18>, <__main__.BoardPosition object at 0x7fbbd93efc50>, <__main__.BoardPosition object at 0x7fbbd93efc88>, <__main__.BoardPosition object at 0x7fbbd93efcc0>, <__main__.BoardPosition object at 0x7fbbd93efcf8>, <__main__.BoardPosition object at 0x7fbbd93efd30>, <__main__.BoardPosition object at 0x7fbbd93efd68>, <__main__.BoardPosition object at 0x7fbbd93efda0>, <__main__.BoardPosition object at 0x7fbbd93efdd8>, <__main__.BoardPosition object at 0x7fbbd93efe10>, <__main__.BoardPosition object at 0x7fbbd93efe48>, <__main__.BoardPosition object at 0x7fbbd93efe80>, <__main__.BoardPosition object at 0x7fbbd93efeb8>, <__main__.BoardPosition object at 0x7fbbd93efef0>, <__main__.BoardPosition object at 0x7fbbd93eff28>, <__main__.BoardPosition object at 0x7fbbd93eff60>, <__main__.BoardPosition object at 0x7fbbd93eff98>, <__main__.BoardPosition object at 0x7fbbd93effd0>, <__main__.BoardPosition object at 0x7fbbd941b048>, <__main__.BoardPosition object at 0x7fbbd941b080>, <__main__.BoardPosition object at 0x7fbbd941b0b8>, <__main__.BoardPosition object at 0x7fbbd941b0f0>, <__main__.BoardPosition object at 0x7fbbd941b128>, <__main__.BoardPosition object at 0x7fbbd941b160>, <__main__.BoardPosition object at 0x7fbbd941b198>, <__main__.BoardPosition object at 0x7fbbd941b1d0>, <__main__.BoardPosition object at 0x7fbbd941b208>, <__main__.BoardPosition object at 0x7fbbd941b240>, <__main__.BoardPosition object at 0x7fbbd941b278>, <__main__.BoardPosition object at 0x7fbbd941b2b0>, <__main__.BoardPosition object at 0x7fbbd941b2e8>, <__main__.BoardPosition object at 0x7fbbd941b320>, <__main__.BoardPosition object at 0x7fbbd941b358>, <__main__.BoardPosition object at 0x7fbbd941b390>, <__main__.BoardPosition object at 0x7fbbd941b3c8>, <__main__.BoardPosition object at 0x7fbbd941b400>, <__main__.BoardPosition object at 0x7fbbd941b438>, <__main__.BoardPosition object at 0x7fbbd941b470>, <__main__.BoardPosition object at 0x7fbbd941b4a8>, <__main__.BoardPosition object at 0x7fbbd941b4e0>, <__main__.BoardPosition object at 0x7fbbd941b518>, <__main__.BoardPosition object at 0x7fbbd941b550>, <__main__.BoardPosition object at 0x7fbbd941b588>, <__main__.BoardPosition object at 0x7fbbd941b5c0>, <__main__.BoardPosition object at 0x7fbbd941b5f8>, <__main__.BoardPosition object at 0x7fbbd941b630>, <__main__.BoardPosition object at 0x7fbbd941b668>, <__main__.BoardPosition object at 0x7fbbd941b6a0>, <__main__.BoardPosition object at 0x7fbbd941b6d8>, <__main__.BoardPosition object at 0x7fbbd941b710>, <__main__.BoardPosition object at 0x7fbbd941b748>, <__main__.BoardPosition object at 0x7fbbd941b780>, <__main__.BoardPosition object at 0x7fbbd941b7b8>, <__main__.BoardPosition object at 0x7fbbd941b7f0>, <__main__.BoardPosition object at 0x7fbbd941b828>, <__main__.BoardPosition object at 0x7fbbd941b860>, <__main__.BoardPosition object at 0x7fbbd941b898>, <__main__.BoardPosition object at 0x7fbbd941b8d0>, <__main__.BoardPosition object at 0x7fbbd941b908>, <__main__.BoardPosition object at 0x7fbbd941b940>, <__main__.BoardPosition object at 0x7fbbd941b978>, <__main__.BoardPosition object at 0x7fbbd941b9b0>, <__main__.BoardPosition object at 0x7fbbd941b9e8>, <__main__.BoardPosition object at 0x7fbbd941ba20>, <__main__.BoardPosition object at 0x7fbbd941ba58>, <__main__.BoardPosition object at 0x7fbbd941ba90>, <__main__.BoardPosition object at 0x7fbbd941bac8>, <__main__.BoardPosition object at 0x7fbbd941bb00>, <__main__.BoardPosition object at 0x7fbbd941bb38>, <__main__.BoardPosition object at 0x7fbbd941bb70>, <__main__.BoardPosition object at 0x7fbbd941bba8>, <__main__.BoardPosition object at 0x7fbbd941bbe0>, <__main__.BoardPosition object at 0x7fbbd941bc18>, <__main__.BoardPosition object at 0x7fbbd941bc50>, <__main__.BoardPosition object at 0x7fbbd941bc88>, <__main__.BoardPosition object at 0x7fbbd941bcc0>, <__main__.BoardPosition object at 0x7fbbd941bcf8>, <__main__.BoardPosition object at 0x7fbbd941bd30>, <__main__.BoardPosition object at 0x7fbbd941bd68>, <__main__.BoardPosition object at 0x7fbbd941bda0>, <__main__.BoardPosition object at 0x7fbbd941bdd8>, <__main__.BoardPosition object at 0x7fbbd941be10>, <__main__.BoardPosition object at 0x7fbbd941be48>, <__main__.BoardPosition object at 0x7fbbd941be80>, <__main__.BoardPosition object at 0x7fbbd941beb8>, <__main__.BoardPosition object at 0x7fbbd941bef0>, <__main__.BoardPosition object at 0x7fbbd941bf28>, <__main__.BoardPosition object at 0x7fbbd941bf60>, <__main__.BoardPosition object at 0x7fbbd941bf98>, <__main__.BoardPosition object at 0x7fbbd941bfd0>, <__main__.BoardPosition object at 0x7fbbd9421048>, <__main__.BoardPosition object at 0x7fbbd9421080>, <__main__.BoardPosition object at 0x7fbbd94210b8>, <__main__.BoardPosition object at 0x7fbbd94210f0>, <__main__.BoardPosition object at 0x7fbbd9421128>, <__main__.BoardPosition object at 0x7fbbd9421160>, <__main__.BoardPosition object at 0x7fbbd9421198>, <__main__.BoardPosition object at 0x7fbbd94211d0>, <__main__.BoardPosition object at 0x7fbbd9421208>, <__main__.BoardPosition object at 0x7fbbd9421240>, <__main__.BoardPosition object at 0x7fbbd9421278>, <__main__.BoardPosition object at 0x7fbbd94212b0>, <__main__.BoardPosition object at 0x7fbbd94212e8>, <__main__.BoardPosition object at 0x7fbbd9421320>, <__main__.BoardPosition object at 0x7fbbd9421358>, <__main__.BoardPosition object at 0x7fbbd9421390>, <__main__.BoardPosition object at 0x7fbbd94213c8>, <__main__.BoardPosition object at 0x7fbbd9421400>, <__main__.BoardPosition object at 0x7fbbd9421438>, <__main__.BoardPosition object at 0x7fbbd9421470>, <__main__.BoardPosition object at 0x7fbbd94214a8>, <__main__.BoardPosition object at 0x7fbbd94214e0>, <__main__.BoardPosition object at 0x7fbbd9421518>, <__main__.BoardPosition object at 0x7fbbd9421550>, <__main__.BoardPosition object at 0x7fbbd9421588>, <__main__.BoardPosition object at 0x7fbbd94215c0>, <__main__.BoardPosition object at 0x7fbbd94215f8>, <__main__.BoardPosition object at 0x7fbbd9421630>, <__main__.BoardPosition object at 0x7fbbd9421668>, <__main__.BoardPosition object at 0x7fbbd94216a0>, <__main__.BoardPosition object at 0x7fbbd94216d8>, <__main__.BoardPosition object at 0x7fbbd9421710>, <__main__.BoardPosition object at 0x7fbbd9421748>, <__main__.BoardPosition object at 0x7fbbd9421780>, <__main__.BoardPosition object at 0x7fbbd94217b8>, <__main__.BoardPosition object at 0x7fbbd94217f0>, <__main__.BoardPosition object at 0x7fbbd9421828>, <__main__.BoardPosition object at 0x7fbbd9421860>, <__main__.BoardPosition object at 0x7fbbd9421898>, <__main__.BoardPosition object at 0x7fbbd94218d0>, <__main__.BoardPosition object at 0x7fbbd9421908>, <__main__.BoardPosition object at 0x7fbbd9421940>, <__main__.BoardPosition object at 0x7fbbd9421978>, <__main__.BoardPosition object at 0x7fbbd94219b0>, <__main__.BoardPosition object at 0x7fbbd94219e8>, <__main__.BoardPosition object at 0x7fbbd9421a20>, <__main__.BoardPosition object at 0x7fbbd9421a58>, <__main__.BoardPosition object at 0x7fbbd9421a90>, <__main__.BoardPosition object at 0x7fbbd9421ac8>, <__main__.BoardPosition object at 0x7fbbd9421b00>, <__main__.BoardPosition object at 0x7fbbd9421b38>, <__main__.BoardPosition object at 0x7fbbd9421b70>, <__main__.BoardPosition object at 0x7fbbd9421ba8>, <__main__.BoardPosition object at 0x7fbbd9421be0>, <__main__.BoardPosition object at 0x7fbbd9421c18>, <__main__.BoardPosition object at 0x7fbbd9421c50>, <__main__.BoardPosition object at 0x7fbbd9421c88>, <__main__.BoardPosition object at 0x7fbbd9421cc0>, <__main__.BoardPosition object at 0x7fbbd9421cf8>, <__main__.BoardPosition object at 0x7fbbd9421d30>, <__main__.BoardPosition object at 0x7fbbd9421d68>, <__main__.BoardPosition object at 0x7fbbd9421da0>, <__main__.BoardPosition object at 0x7fbbd9421dd8>, <__main__.BoardPosition object at 0x7fbbd9421e10>, <__main__.BoardPosition object at 0x7fbbd9421e48>, <__main__.BoardPosition object at 0x7fbbd9421e80>, <__main__.BoardPosition object at 0x7fbbd9421eb8>, <__main__.BoardPosition object at 0x7fbbd9421ef0>, <__main__.BoardPosition object at 0x7fbbd9421f28>, <__main__.BoardPosition object at 0x7fbbd9421f60>, <__main__.BoardPosition object at 0x7fbbd9421f98>, <__main__.BoardPosition object at 0x7fbbd9421fd0>, <__main__.BoardPosition object at 0x7fbbd942a048>, <__main__.BoardPosition object at 0x7fbbd942a080>, <__main__.BoardPosition object at 0x7fbbd942a0b8>, <__main__.BoardPosition object at 0x7fbbd942a0f0>, <__main__.BoardPosition object at 0x7fbbd942a128>, <__main__.BoardPosition object at 0x7fbbd942a160>, <__main__.BoardPosition object at 0x7fbbd942a198>, <__main__.BoardPosition object at 0x7fbbd942a1d0>, <__main__.BoardPosition object at 0x7fbbd942a208>, <__main__.BoardPosition object at 0x7fbbd942a240>, <__main__.BoardPosition object at 0x7fbbd942a278>, <__main__.BoardPosition object at 0x7fbbd942a2b0>, <__main__.BoardPosition object at 0x7fbbd942a2e8>, <__main__.BoardPosition object at 0x7fbbd942a320>, <__main__.BoardPosition object at 0x7fbbd942a358>, <__main__.BoardPosition object at 0x7fbbd942a390>, <__main__.BoardPosition object at 0x7fbbd942a3c8>, <__main__.BoardPosition object at 0x7fbbd942a400>, <__main__.BoardPosition object at 0x7fbbd942a438>, <__main__.BoardPosition object at 0x7fbbd942a470>, <__main__.BoardPosition object at 0x7fbbd942a4a8>, <__main__.BoardPosition object at 0x7fbbd942a4e0>, <__main__.BoardPosition object at 0x7fbbd942a518>, <__main__.BoardPosition object at 0x7fbbd942a550>, <__main__.BoardPosition object at 0x7fbbd942a588>, <__main__.BoardPosition object at 0x7fbbd942a5c0>, <__main__.BoardPosition object at 0x7fbbd942a5f8>, <__main__.BoardPosition object at 0x7fbbd942a630>, <__main__.BoardPosition object at 0x7fbbd942a668>, <__main__.BoardPosition object at 0x7fbbd942a6a0>, <__main__.BoardPosition object at 0x7fbbd942a6d8>, <__main__.BoardPosition object at 0x7fbbd942a710>, <__main__.BoardPosition object at 0x7fbbd942a748>, <__main__.BoardPosition object at 0x7fbbd942a780>, <__main__.BoardPosition object at 0x7fbbd942a7b8>, <__main__.BoardPosition object at 0x7fbbd942a7f0>, <__main__.BoardPosition object at 0x7fbbd942a828>, <__main__.BoardPosition object at 0x7fbbd942a860>, <__main__.BoardPosition object at 0x7fbbd942a898>, <__main__.BoardPosition object at 0x7fbbd942a8d0>, <__main__.BoardPosition object at 0x7fbbd942a908>, <__main__.BoardPosition object at 0x7fbbd942a940>, <__main__.BoardPosition object at 0x7fbbd942a978>, <__main__.BoardPosition object at 0x7fbbd942a9b0>, <__main__.BoardPosition object at 0x7fbbd942a9e8>, <__main__.BoardPosition object at 0x7fbbd942aa20>, <__main__.BoardPosition object at 0x7fbbd942aa58>, <__main__.BoardPosition object at 0x7fbbd942aa90>, <__main__.BoardPosition object at 0x7fbbd942aac8>, <__main__.BoardPosition object at 0x7fbbd942ab00>, <__main__.BoardPosition object at 0x7fbbd942ab38>, <__main__.BoardPosition object at 0x7fbbd942ab70>, <__main__.BoardPosition object at 0x7fbbd942aba8>, <__main__.BoardPosition object at 0x7fbbd942abe0>, <__main__.BoardPosition object at 0x7fbbd942ac18>, <__main__.BoardPosition object at 0x7fbbd942ac50>, <__main__.BoardPosition object at 0x7fbbd942ac88>, <__main__.BoardPosition object at 0x7fbbd942acc0>, <__main__.BoardPosition object at 0x7fbbd942acf8>, <__main__.BoardPosition object at 0x7fbbd942ad30>, <__main__.BoardPosition object at 0x7fbbd942ad68>, <__main__.BoardPosition object at 0x7fbbd942ada0>, <__main__.BoardPosition object at 0x7fbbd942add8>, <__main__.BoardPosition object at 0x7fbbd942ae10>, <__main__.BoardPosition object at 0x7fbbd942ae48>, <__main__.BoardPosition object at 0x7fbbd942ae80>, <__main__.BoardPosition object at 0x7fbbd942aeb8>, <__main__.BoardPosition object at 0x7fbbd942aef0>, <__main__.BoardPosition object at 0x7fbbd942af28>, <__main__.BoardPosition object at 0x7fbbd942af60>, <__main__.BoardPosition object at 0x7fbbd942af98>, <__main__.BoardPosition object at 0x7fbbd942afd0>, <__main__.BoardPosition object at 0x7fbbd941a048>, <__main__.BoardPosition object at 0x7fbbd941a080>, <__main__.BoardPosition object at 0x7fbbd941a0b8>, <__main__.BoardPosition object at 0x7fbbd941a0f0>, <__main__.BoardPosition object at 0x7fbbd941a128>, <__main__.BoardPosition object at 0x7fbbd941a160>, <__main__.BoardPosition object at 0x7fbbd941a198>, <__main__.BoardPosition object at 0x7fbbd941a1d0>, <__main__.BoardPosition object at 0x7fbbd941a208>, <__main__.BoardPosition object at 0x7fbbd941a240>, <__main__.BoardPosition object at 0x7fbbd941a278>, <__main__.BoardPosition object at 0x7fbbd941a2b0>, <__main__.BoardPosition object at 0x7fbbd941a2e8>, <__main__.BoardPosition object at 0x7fbbd941a320>, <__main__.BoardPosition object at 0x7fbbd941a358>, <__main__.BoardPosition object at 0x7fbbd941a390>, <__main__.BoardPosition object at 0x7fbbd941a3c8>, <__main__.BoardPosition object at 0x7fbbd941a400>, <__main__.BoardPosition object at 0x7fbbd941a438>, <__main__.BoardPosition object at 0x7fbbd941a470>, <__main__.BoardPosition object at 0x7fbbd941a4a8>, <__main__.BoardPosition object at 0x7fbbd941a4e0>, <__main__.BoardPosition object at 0x7fbbd941a518>, <__main__.BoardPosition object at 0x7fbbd941a550>, <__main__.BoardPosition object at 0x7fbbd941a588>, <__main__.BoardPosition object at 0x7fbbd941a5c0>, <__main__.BoardPosition object at 0x7fbbd941a5f8>, <__main__.BoardPosition object at 0x7fbbd941a630>, <__main__.BoardPosition object at 0x7fbbd941a668>, <__main__.BoardPosition object at 0x7fbbd941a6a0>, <__main__.BoardPosition object at 0x7fbbd941a6d8>, <__main__.BoardPosition object at 0x7fbbd941a710>, <__main__.BoardPosition object at 0x7fbbd941a748>, <__main__.BoardPosition object at 0x7fbbd941a780>, <__main__.BoardPosition object at 0x7fbbd941a7b8>, <__main__.BoardPosition object at 0x7fbbd941a7f0>, <__main__.BoardPosition object at 0x7fbbd941a828>, <__main__.BoardPosition object at 0x7fbbd941a860>, <__main__.BoardPosition object at 0x7fbbd941a898>, <__main__.BoardPosition object at 0x7fbbd941a8d0>, <__main__.BoardPosition object at 0x7fbbd941a908>, <__main__.BoardPosition object at 0x7fbbd941a940>, <__main__.BoardPosition object at 0x7fbbd941a978>, <__main__.BoardPosition object at 0x7fbbd941a9b0>, <__main__.BoardPosition object at 0x7fbbd941a9e8>, <__main__.BoardPosition object at 0x7fbbd941aa20>, <__main__.BoardPosition object at 0x7fbbd941aa58>, <__main__.BoardPosition object at 0x7fbbd941aa90>, <__main__.BoardPosition object at 0x7fbbd941aac8>, <__main__.BoardPosition object at 0x7fbbd941ab00>, <__main__.BoardPosition object at 0x7fbbd941ab38>, <__main__.BoardPosition object at 0x7fbbd941ab70>, <__main__.BoardPosition object at 0x7fbbd941aba8>, <__main__.BoardPosition object at 0x7fbbd941abe0>, <__main__.BoardPosition object at 0x7fbbd941ac18>, <__main__.BoardPosition object at 0x7fbbd941ac50>, <__main__.BoardPosition object at 0x7fbbd941ac88>, <__main__.BoardPosition object at 0x7fbbd941acc0>, <__main__.BoardPosition object at 0x7fbbd941acf8>, <__main__.BoardPosition object at 0x7fbbd941ad30>, <__main__.BoardPosition object at 0x7fbbd941ad68>, <__main__.BoardPosition object at 0x7fbbd941ada0>, <__main__.BoardPosition object at 0x7fbbd941add8>, <__main__.BoardPosition object at 0x7fbbd941ae10>, <__main__.BoardPosition object at 0x7fbbd941ae48>, <__main__.BoardPosition object at 0x7fbbd941ae80>, <__main__.BoardPosition object at 0x7fbbd941aeb8>, <__main__.BoardPosition object at 0x7fbbd941aef0>, <__main__.BoardPosition object at 0x7fbbd941af28>, <__main__.BoardPosition object at 0x7fbbd941af60>, <__main__.BoardPosition object at 0x7fbbd941af98>, <__main__.BoardPosition object at 0x7fbbd941afd0>, <__main__.BoardPosition object at 0x7fbbd93b6048>, <__main__.BoardPosition object at 0x7fbbd93b6080>, <__main__.BoardPosition object at 0x7fbbd93b60b8>, <__main__.BoardPosition object at 0x7fbbd93b60f0>, <__main__.BoardPosition object at 0x7fbbd93b6128>, <__main__.BoardPosition object at 0x7fbbd93b6160>, <__main__.BoardPosition object at 0x7fbbd93b6198>, <__main__.BoardPosition object at 0x7fbbd93b61d0>, <__main__.BoardPosition object at 0x7fbbd93b6208>, <__main__.BoardPosition object at 0x7fbbd93b6240>, <__main__.BoardPosition object at 0x7fbbd93b6278>, <__main__.BoardPosition object at 0x7fbbd93b62b0>, <__main__.BoardPosition object at 0x7fbbd93b62e8>, <__main__.BoardPosition object at 0x7fbbd93b6320>, <__main__.BoardPosition object at 0x7fbbd93b6358>, <__main__.BoardPosition object at 0x7fbbd93b6390>, <__main__.BoardPosition object at 0x7fbbd93b63c8>, <__main__.BoardPosition object at 0x7fbbd93b6400>, <__main__.BoardPosition object at 0x7fbbd93b6438>, <__main__.BoardPosition object at 0x7fbbd93b6470>, <__main__.BoardPosition object at 0x7fbbd93b64a8>, <__main__.BoardPosition object at 0x7fbbd93b64e0>, <__main__.BoardPosition object at 0x7fbbd93b6518>, <__main__.BoardPosition object at 0x7fbbd93b6550>, <__main__.BoardPosition object at 0x7fbbd93b6588>, <__main__.BoardPosition object at 0x7fbbd93b65c0>, <__main__.BoardPosition object at 0x7fbbd93b65f8>, <__main__.BoardPosition object at 0x7fbbd93b6630>, <__main__.BoardPosition object at 0x7fbbd93b6668>, <__main__.BoardPosition object at 0x7fbbd93b66a0>, <__main__.BoardPosition object at 0x7fbbd93b66d8>, <__main__.BoardPosition object at 0x7fbbd93b6710>, <__main__.BoardPosition object at 0x7fbbd93b6748>, <__main__.BoardPosition object at 0x7fbbd93b6780>, <__main__.BoardPosition object at 0x7fbbd93b67b8>, <__main__.BoardPosition object at 0x7fbbd93b67f0>, <__main__.BoardPosition object at 0x7fbbd93b6828>]\n"
          ],
          "name": "stdout"
        }
      ]
    },
    {
      "cell_type": "code",
      "metadata": {
        "id": "FqHnfWUzkXjL",
        "colab_type": "code",
        "colab": {
          "base_uri": "https://localhost:8080/",
          "height": 85
        },
        "outputId": "12db2376-2a03-49f3-9ebc-7092228032f7"
      },
      "source": [
        "iteration = 0;\n",
        "while not stop():\n",
        "\t# keep iteratin till  you find the best position\n",
        "\tpopulation = GA(iteration)\n",
        "\titeration +=1 \n",
        "\n",
        "url='https://lf8q0kx152.execute-api.us-east-2.amazonaws.com/default/computeFitnessScore'\n",
        "print(\"Iteration number : \", iteration)\n",
        "for each in population:\n",
        "\tif each.fitness == 28:\n",
        "\t\tprint(each.sequence)\n",
        "    x=requests.post(url,json={\"qconfig\":\"<<config parameters>>\",\"userID\":133731,\"githubLink\":\"<<git hub link>>\"})\n",
        "    print(x.text)\n",
        "  "
      ],
      "execution_count": 36,
      "outputs": [
        {
          "output_type": "stream",
          "text": [
            "<__main__.BoardPosition object at 0x7fbbd94190b8>  printing population[0]\n",
            "Iteration number :  0\n",
            "[3 1 6 2 5 7 0 4]\n",
            "[6 2 7 1 4 0 5 3]\n"
          ],
          "name": "stdout"
        }
      ]
    },
    {
      "cell_type": "code",
      "metadata": {
        "id": "wr3rE8cZkX2T",
        "colab_type": "code",
        "colab": {}
      },
      "source": [
        ""
      ],
      "execution_count": 36,
      "outputs": []
    },
    {
      "cell_type": "code",
      "metadata": {
        "id": "RGSLi3X5kYGc",
        "colab_type": "code",
        "colab": {}
      },
      "source": [
        ""
      ],
      "execution_count": 36,
      "outputs": []
    },
    {
      "cell_type": "code",
      "metadata": {
        "id": "RrYZ0ByHkYNQ",
        "colab_type": "code",
        "colab": {}
      },
      "source": [
        ""
      ],
      "execution_count": 36,
      "outputs": []
    },
    {
      "cell_type": "code",
      "metadata": {
        "id": "Pt6-reP9kYXU",
        "colab_type": "code",
        "colab": {}
      },
      "source": [
        ""
      ],
      "execution_count": 36,
      "outputs": []
    }
  ]
}